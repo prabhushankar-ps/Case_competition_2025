{
 "cells": [
  {
   "cell_type": "code",
   "execution_count": 13,
   "id": "9a522f7e-427f-4017-b1b7-8c0b06878f49",
   "metadata": {},
   "outputs": [
    {
     "name": "stderr",
     "output_type": "stream",
     "text": [
      "/var/folders/wc/wf8d41213dxfd0jz8k4gpjlr0000gn/T/ipykernel_62220/872457545.py:7: DeprecationWarning: The argument `dtypes` for `read_csv` is deprecated. It has been renamed to `schema_overrides`.\n",
      "  df = pl.read_csv(\"/Users/prabhushankar/Downloads/BDHSC_SCC_2025_synth_data.csv\", dtypes={\"ID\": pl.Utf8})\n"
     ]
    },
    {
     "name": "stdout",
     "output_type": "stream",
     "text": [
      " The it took to run the query is 2.857453666976653 seconds \n"
     ]
    },
    {
     "data": {
      "text/html": [
       "<div><style>\n",
       ".dataframe > thead > tr,\n",
       ".dataframe > tbody > tr {\n",
       "  text-align: right;\n",
       "  white-space: pre-wrap;\n",
       "}\n",
       "</style>\n",
       "<small>shape: (187_236,)</small><table border=\"1\" class=\"dataframe\"><thead><tr><th>ID</th></tr><tr><td>str</td></tr></thead><tbody><tr><td>&quot;17949474093040554827&quot;</td></tr><tr><td>&quot;3206454361022842488&quot;</td></tr><tr><td>&quot;4496198483924006749&quot;</td></tr><tr><td>&quot;7636500104699684087&quot;</td></tr><tr><td>&quot;6005826935631742582&quot;</td></tr><tr><td>&hellip;</td></tr><tr><td>&quot;6957133540404888310&quot;</td></tr><tr><td>&quot;16818631476014213645&quot;</td></tr><tr><td>&quot;14416946420685054308&quot;</td></tr><tr><td>&quot;15485104583038264926&quot;</td></tr><tr><td>&quot;18038539256753270510&quot;</td></tr></tbody></table></div>"
      ],
      "text/plain": [
       "shape: (187_236,)\n",
       "Series: 'ID' [str]\n",
       "[\n",
       "\t\"17949474093040554827\"\n",
       "\t\"3206454361022842488\"\n",
       "\t\"4496198483924006749\"\n",
       "\t\"7636500104699684087\"\n",
       "\t\"6005826935631742582\"\n",
       "\t…\n",
       "\t\"6957133540404888310\"\n",
       "\t\"16818631476014213645\"\n",
       "\t\"14416946420685054308\"\n",
       "\t\"15485104583038264926\"\n",
       "\t\"18038539256753270510\"\n",
       "]"
      ]
     },
     "execution_count": 13,
     "metadata": {},
     "output_type": "execute_result"
    }
   ],
   "source": [
    "import polars as pl\n",
    "import time\n",
    "\n",
    "start_time = time.perf_counter()\n",
    "\n",
    "# Load CSV file\n",
    "df = pl.read_csv(\"/Users/prabhushankar/Downloads/BDHSC_SCC_2025_synth_data.csv\", dtypes={\"ID\": pl.Utf8})\n",
    "\n",
    "end_time = time.perf_counter()\n",
    "elapsed_time = end_time - start_time\n",
    "print(f' The it took to run the query is {elapsed_time} seconds ' )\n",
    "\n",
    "df['ID'].unique()"
   ]
  },
  {
   "cell_type": "code",
   "execution_count": 3,
   "id": "e9e537cf-0aab-441b-8df1-ba159ccb7dfe",
   "metadata": {},
   "outputs": [
    {
     "data": {
      "text/html": [
       "<div><style>\n",
       ".dataframe > thead > tr,\n",
       ".dataframe > tbody > tr {\n",
       "  text-align: right;\n",
       "  white-space: pre-wrap;\n",
       "}\n",
       "</style>\n",
       "<small>shape: (135, 6)</small><table border=\"1\" class=\"dataframe\"><thead><tr><th>Base_Drug_Combo</th><th>Comp_INI</th><th>Comp_NNRTI</th><th>ExtraPI</th><th>ExtraPk_En</th><th>Patient_Count</th></tr><tr><td>i64</td><td>i64</td><td>i64</td><td>i64</td><td>i64</td><td>u32</td></tr></thead><tbody><tr><td>0</td><td>3</td><td>2</td><td>5</td><td>0</td><td>68523</td></tr><tr><td>1</td><td>0</td><td>3</td><td>5</td><td>0</td><td>51366</td></tr><tr><td>0</td><td>3</td><td>1</td><td>5</td><td>0</td><td>48237</td></tr><tr><td>3</td><td>3</td><td>3</td><td>1</td><td>0</td><td>36645</td></tr><tr><td>0</td><td>0</td><td>3</td><td>5</td><td>0</td><td>26628</td></tr><tr><td>&hellip;</td><td>&hellip;</td><td>&hellip;</td><td>&hellip;</td><td>&hellip;</td><td>&hellip;</td></tr><tr><td>2</td><td>2</td><td>3</td><td>4</td><td>1</td><td>21</td></tr><tr><td>2</td><td>2</td><td>3</td><td>0</td><td>0</td><td>21</td></tr><tr><td>3</td><td>2</td><td>2</td><td>5</td><td>1</td><td>21</td></tr><tr><td>5</td><td>1</td><td>3</td><td>5</td><td>0</td><td>21</td></tr><tr><td>0</td><td>0</td><td>3</td><td>2</td><td>0</td><td>21</td></tr></tbody></table></div>"
      ],
      "text/plain": [
       "shape: (135, 6)\n",
       "┌─────────────────┬──────────┬────────────┬─────────┬────────────┬───────────────┐\n",
       "│ Base_Drug_Combo ┆ Comp_INI ┆ Comp_NNRTI ┆ ExtraPI ┆ ExtraPk_En ┆ Patient_Count │\n",
       "│ ---             ┆ ---      ┆ ---        ┆ ---     ┆ ---        ┆ ---           │\n",
       "│ i64             ┆ i64      ┆ i64        ┆ i64     ┆ i64        ┆ u32           │\n",
       "╞═════════════════╪══════════╪════════════╪═════════╪════════════╪═══════════════╡\n",
       "│ 0               ┆ 3        ┆ 2          ┆ 5       ┆ 0          ┆ 68523         │\n",
       "│ 1               ┆ 0        ┆ 3          ┆ 5       ┆ 0          ┆ 51366         │\n",
       "│ 0               ┆ 3        ┆ 1          ┆ 5       ┆ 0          ┆ 48237         │\n",
       "│ 3               ┆ 3        ┆ 3          ┆ 1       ┆ 0          ┆ 36645         │\n",
       "│ 0               ┆ 0        ┆ 3          ┆ 5       ┆ 0          ┆ 26628         │\n",
       "│ …               ┆ …        ┆ …          ┆ …       ┆ …          ┆ …             │\n",
       "│ 2               ┆ 2        ┆ 3          ┆ 4       ┆ 1          ┆ 21            │\n",
       "│ 2               ┆ 2        ┆ 3          ┆ 0       ┆ 0          ┆ 21            │\n",
       "│ 3               ┆ 2        ┆ 2          ┆ 5       ┆ 1          ┆ 21            │\n",
       "│ 5               ┆ 1        ┆ 3          ┆ 5       ┆ 0          ┆ 21            │\n",
       "│ 0               ┆ 0        ┆ 3          ┆ 2       ┆ 0          ┆ 21            │\n",
       "└─────────────────┴──────────┴────────────┴─────────┴────────────┴───────────────┘"
      ]
     },
     "execution_count": 3,
     "metadata": {},
     "output_type": "execute_result"
    }
   ],
   "source": [
    "\n",
    "\n",
    "# Assuming df is your Polars DataFrame\n",
    "drug_distribution = (\n",
    "    df.group_by([\"Base_Drug_Combo\", \"Comp_INI\", \"Comp_NNRTI\", \"ExtraPI\", \"ExtraPk_En\"])\n",
    "    .agg(pl.col(\"ID\").n_unique().alias(\"Patient_Count\"))\n",
    "    .sort(\"Patient_Count\", descending=True)  # Sort by most common regimens\n",
    ")\n",
    "drug_distribution"
   ]
  },
  {
   "cell_type": "code",
   "execution_count": 4,
   "id": "9b9439e1-9ada-4b86-b3e5-7a572c1760df",
   "metadata": {},
   "outputs": [
    {
     "data": {
      "text/html": [
       "<div><style>\n",
       ".dataframe > thead > tr,\n",
       ".dataframe > tbody > tr {\n",
       "  text-align: right;\n",
       "  white-space: pre-wrap;\n",
       "}\n",
       "</style>\n",
       "<small>shape: (119_511, 2)</small><table border=\"1\" class=\"dataframe\"><thead><tr><th>ID</th><th>Unique_Regimens</th></tr><tr><td>str</td><td>u32</td></tr></thead><tbody><tr><td>&quot;15791671157670126174&quot;</td><td>2</td></tr><tr><td>&quot;12734381574582924932&quot;</td><td>7</td></tr><tr><td>&quot;9633531806606070496&quot;</td><td>8</td></tr><tr><td>&quot;9771506276302457785&quot;</td><td>2</td></tr><tr><td>&quot;13204638292342463796&quot;</td><td>2</td></tr><tr><td>&hellip;</td><td>&hellip;</td></tr><tr><td>&quot;9147343366549359111&quot;</td><td>6</td></tr><tr><td>&quot;3443625057407121205&quot;</td><td>3</td></tr><tr><td>&quot;7629750966817986248&quot;</td><td>5</td></tr><tr><td>&quot;14536700154673172986&quot;</td><td>6</td></tr><tr><td>&quot;11708087614676327650&quot;</td><td>2</td></tr></tbody></table></div>"
      ],
      "text/plain": [
       "shape: (119_511, 2)\n",
       "┌──────────────────────┬─────────────────┐\n",
       "│ ID                   ┆ Unique_Regimens │\n",
       "│ ---                  ┆ ---             │\n",
       "│ str                  ┆ u32             │\n",
       "╞══════════════════════╪═════════════════╡\n",
       "│ 15791671157670126174 ┆ 2               │\n",
       "│ 12734381574582924932 ┆ 7               │\n",
       "│ 9633531806606070496  ┆ 8               │\n",
       "│ 9771506276302457785  ┆ 2               │\n",
       "│ 13204638292342463796 ┆ 2               │\n",
       "│ …                    ┆ …               │\n",
       "│ 9147343366549359111  ┆ 6               │\n",
       "│ 3443625057407121205  ┆ 3               │\n",
       "│ 7629750966817986248  ┆ 5               │\n",
       "│ 14536700154673172986 ┆ 6               │\n",
       "│ 11708087614676327650 ┆ 2               │\n",
       "└──────────────────────┴─────────────────┘"
      ]
     },
     "execution_count": 4,
     "metadata": {},
     "output_type": "execute_result"
    }
   ],
   "source": [
    "patient_regimen_changes = (\n",
    "    df.group_by(\"ID\")\n",
    "    .agg(\n",
    "        pl.struct([\"Base_Drug_Combo\", \"Comp_INI\", \"Comp_NNRTI\", \"ExtraPI\", \"ExtraPk_En\"])\n",
    "        .unique()\n",
    "        .count()\n",
    "        .alias(\"Unique_Regimens\")\n",
    "    )\n",
    "    .filter(pl.col(\"Unique_Regimens\") > 1)  # Filter patients with more than 1 unique regimen\n",
    ")\n",
    "patient_regimen_changes"
   ]
  },
  {
   "cell_type": "code",
   "execution_count": 5,
   "id": "48a4c1bb-4ffe-4829-b50a-f71cd7621a20",
   "metadata": {},
   "outputs": [
    {
     "data": {
      "text/html": [
       "<div><style>\n",
       ".dataframe > thead > tr,\n",
       ".dataframe > tbody > tr {\n",
       "  text-align: right;\n",
       "  white-space: pre-wrap;\n",
       "}\n",
       "</style>\n",
       "<small>shape: (187_236, 4)</small><table border=\"1\" class=\"dataframe\"><thead><tr><th>ID</th><th>First_VL_250</th><th>First_VL_50</th><th>First_CD4_500</th></tr><tr><td>str</td><td>i64</td><td>i64</td><td>i64</td></tr></thead><tbody><tr><td>&quot;7383413462968028800&quot;</td><td>14</td><td>35</td><td>5</td></tr><tr><td>&quot;16513942501213215386&quot;</td><td>6</td><td>37</td><td>0</td></tr><tr><td>&quot;9596570022981351632&quot;</td><td>37</td><td>37</td><td>0</td></tr><tr><td>&quot;5782266317543910517&quot;</td><td>36</td><td>36</td><td>0</td></tr><tr><td>&quot;2338224216254115899&quot;</td><td>6</td><td>6</td><td>0</td></tr><tr><td>&hellip;</td><td>&hellip;</td><td>&hellip;</td><td>&hellip;</td></tr><tr><td>&quot;131109144855257438&quot;</td><td>11</td><td>37</td><td>0</td></tr><tr><td>&quot;11210615490235162055&quot;</td><td>12</td><td>16</td><td>0</td></tr><tr><td>&quot;12968173266737491714&quot;</td><td>12</td><td>25</td><td>0</td></tr><tr><td>&quot;16796866880511852428&quot;</td><td>0</td><td>1</td><td>0</td></tr><tr><td>&quot;7799353797030137439&quot;</td><td>0</td><td>0</td><td>0</td></tr></tbody></table></div>"
      ],
      "text/plain": [
       "shape: (187_236, 4)\n",
       "┌──────────────────────┬──────────────┬─────────────┬───────────────┐\n",
       "│ ID                   ┆ First_VL_250 ┆ First_VL_50 ┆ First_CD4_500 │\n",
       "│ ---                  ┆ ---          ┆ ---         ┆ ---           │\n",
       "│ str                  ┆ i64          ┆ i64         ┆ i64           │\n",
       "╞══════════════════════╪══════════════╪═════════════╪═══════════════╡\n",
       "│ 7383413462968028800  ┆ 14           ┆ 35          ┆ 5             │\n",
       "│ 16513942501213215386 ┆ 6            ┆ 37          ┆ 0             │\n",
       "│ 9596570022981351632  ┆ 37           ┆ 37          ┆ 0             │\n",
       "│ 5782266317543910517  ┆ 36           ┆ 36          ┆ 0             │\n",
       "│ 2338224216254115899  ┆ 6            ┆ 6           ┆ 0             │\n",
       "│ …                    ┆ …            ┆ …           ┆ …             │\n",
       "│ 131109144855257438   ┆ 11           ┆ 37          ┆ 0             │\n",
       "│ 11210615490235162055 ┆ 12           ┆ 16          ┆ 0             │\n",
       "│ 12968173266737491714 ┆ 12           ┆ 25          ┆ 0             │\n",
       "│ 16796866880511852428 ┆ 0            ┆ 1           ┆ 0             │\n",
       "│ 7799353797030137439  ┆ 0            ┆ 0           ┆ 0             │\n",
       "└──────────────────────┴──────────────┴─────────────┴───────────────┘"
      ]
     },
     "execution_count": 5,
     "metadata": {},
     "output_type": "execute_result"
    }
   ],
   "source": [
    "viral_suppression = (\n",
    "    df.group_by(\"ID\").agg([\n",
    "        pl.col(\"Month\").filter(pl.col(\"VL\") <= 250).min().alias(\"First_VL_250\"),\n",
    "        pl.col(\"Month\").filter(pl.col(\"VL\") <= 50).min().alias(\"First_VL_50\"),\n",
    "        pl.col(\"Month\").filter(pl.col(\"CD4\") >= 500).min().alias(\"First_CD4_500\")\n",
    "    ])\n",
    ")\n",
    "viral_suppression"
   ]
  },
  {
   "cell_type": "code",
   "execution_count": 6,
   "id": "7ee94585-17e6-4e98-ae9b-b9d46485f9f8",
   "metadata": {},
   "outputs": [
    {
     "data": {
      "text/html": [
       "<div><style>\n",
       ".dataframe > thead > tr,\n",
       ".dataframe > tbody > tr {\n",
       "  text-align: right;\n",
       "  white-space: pre-wrap;\n",
       "}\n",
       "</style>\n",
       "<small>shape: (135, 9)</small><table border=\"1\" class=\"dataframe\"><thead><tr><th>Base_Drug_Combo</th><th>Comp_INI</th><th>Comp_NNRTI</th><th>ExtraPI</th><th>ExtraPk_En</th><th>Avg_Time_VL_250</th><th>Avg_Time_VL_50</th><th>Avg_Time_CD4_500</th><th>Patient_Count</th></tr><tr><td>i64</td><td>i64</td><td>i64</td><td>i64</td><td>i64</td><td>f64</td><td>f64</td><td>f64</td><td>u32</td></tr></thead><tbody><tr><td>1</td><td>3</td><td>3</td><td>3</td><td>0</td><td>0.026217</td><td>0.862493</td><td>3.286893</td><td>567</td></tr><tr><td>5</td><td>3</td><td>0</td><td>0</td><td>0</td><td>1.5</td><td>3.0</td><td>5.0</td><td>63</td></tr><tr><td>1</td><td>3</td><td>3</td><td>4</td><td>0</td><td>1.660466</td><td>3.213638</td><td>2.7643</td><td>4725</td></tr><tr><td>5</td><td>3</td><td>2</td><td>0</td><td>0</td><td>3.022501</td><td>3.252747</td><td>11.118421</td><td>147</td></tr><tr><td>1</td><td>3</td><td>3</td><td>2</td><td>0</td><td>2.841571</td><td>4.003611</td><td>1.191388</td><td>1365</td></tr><tr><td>&hellip;</td><td>&hellip;</td><td>&hellip;</td><td>&hellip;</td><td>&hellip;</td><td>&hellip;</td><td>&hellip;</td><td>&hellip;</td><td>&hellip;</td></tr><tr><td>2</td><td>1</td><td>3</td><td>5</td><td>1</td><td>37.0</td><td>37.0</td><td>0.0</td><td>21</td></tr><tr><td>1</td><td>1</td><td>3</td><td>5</td><td>1</td><td>36.972973</td><td>37.243243</td><td>0.0</td><td>126</td></tr><tr><td>3</td><td>3</td><td>2</td><td>4</td><td>0</td><td>37.0</td><td>37.857143</td><td>0.0</td><td>63</td></tr><tr><td>1</td><td>0</td><td>3</td><td>5</td><td>1</td><td>36.918693</td><td>38.505319</td><td>0.0</td><td>231</td></tr><tr><td>2</td><td>3</td><td>3</td><td>3</td><td>0</td><td>34.993386</td><td>40.37594</td><td>1.372973</td><td>252</td></tr></tbody></table></div>"
      ],
      "text/plain": [
       "shape: (135, 9)\n",
       "┌────────────┬──────────┬────────────┬─────────┬───┬───────────┬───────────┬───────────┬───────────┐\n",
       "│ Base_Drug_ ┆ Comp_INI ┆ Comp_NNRTI ┆ ExtraPI ┆ … ┆ Avg_Time_ ┆ Avg_Time_ ┆ Avg_Time_ ┆ Patient_C │\n",
       "│ Combo      ┆ ---      ┆ ---        ┆ ---     ┆   ┆ VL_250    ┆ VL_50     ┆ CD4_500   ┆ ount      │\n",
       "│ ---        ┆ i64      ┆ i64        ┆ i64     ┆   ┆ ---       ┆ ---       ┆ ---       ┆ ---       │\n",
       "│ i64        ┆          ┆            ┆         ┆   ┆ f64       ┆ f64       ┆ f64       ┆ u32       │\n",
       "╞════════════╪══════════╪════════════╪═════════╪═══╪═══════════╪═══════════╪═══════════╪═══════════╡\n",
       "│ 1          ┆ 3        ┆ 3          ┆ 3       ┆ … ┆ 0.026217  ┆ 0.862493  ┆ 3.286893  ┆ 567       │\n",
       "│ 5          ┆ 3        ┆ 0          ┆ 0       ┆ … ┆ 1.5       ┆ 3.0       ┆ 5.0       ┆ 63        │\n",
       "│ 1          ┆ 3        ┆ 3          ┆ 4       ┆ … ┆ 1.660466  ┆ 3.213638  ┆ 2.7643    ┆ 4725      │\n",
       "│ 5          ┆ 3        ┆ 2          ┆ 0       ┆ … ┆ 3.022501  ┆ 3.252747  ┆ 11.118421 ┆ 147       │\n",
       "│ 1          ┆ 3        ┆ 3          ┆ 2       ┆ … ┆ 2.841571  ┆ 4.003611  ┆ 1.191388  ┆ 1365      │\n",
       "│ …          ┆ …        ┆ …          ┆ …       ┆ … ┆ …         ┆ …         ┆ …         ┆ …         │\n",
       "│ 2          ┆ 1        ┆ 3          ┆ 5       ┆ … ┆ 37.0      ┆ 37.0      ┆ 0.0       ┆ 21        │\n",
       "│ 1          ┆ 1        ┆ 3          ┆ 5       ┆ … ┆ 36.972973 ┆ 37.243243 ┆ 0.0       ┆ 126       │\n",
       "│ 3          ┆ 3        ┆ 2          ┆ 4       ┆ … ┆ 37.0      ┆ 37.857143 ┆ 0.0       ┆ 63        │\n",
       "│ 1          ┆ 0        ┆ 3          ┆ 5       ┆ … ┆ 36.918693 ┆ 38.505319 ┆ 0.0       ┆ 231       │\n",
       "│ 2          ┆ 3        ┆ 3          ┆ 3       ┆ … ┆ 34.993386 ┆ 40.37594  ┆ 1.372973  ┆ 252       │\n",
       "└────────────┴──────────┴────────────┴─────────┴───┴───────────┴───────────┴───────────┴───────────┘"
      ]
     },
     "execution_count": 6,
     "metadata": {},
     "output_type": "execute_result"
    }
   ],
   "source": [
    "regimen_effectiveness = (\n",
    "    df.join(viral_suppression, on=\"ID\", how=\"left\")\n",
    "    .group_by([\"Base_Drug_Combo\", \"Comp_INI\", \"Comp_NNRTI\", \"ExtraPI\", \"ExtraPk_En\"])\n",
    "    .agg(\n",
    "        pl.col(\"First_VL_250\").mean().alias(\"Avg_Time_VL_250\"),\n",
    "        pl.col(\"First_VL_50\").mean().alias(\"Avg_Time_VL_50\"),\n",
    "        pl.col(\"First_CD4_500\").mean().alias(\"Avg_Time_CD4_500\"),\n",
    "        pl.col(\"ID\").n_unique().alias(\"Patient_Count\")\n",
    "    )\n",
    "    .sort(\"Avg_Time_VL_50\")  # Sort by fastest viral suppression\n",
    ")\n",
    "regimen_effectiveness"
   ]
  },
  {
   "cell_type": "code",
   "execution_count": 7,
   "id": "67da3aa8-936e-40fb-a02c-8d556b99de0b",
   "metadata": {},
   "outputs": [
    {
     "data": {
      "text/html": [
       "<div><style>\n",
       ".dataframe > thead > tr,\n",
       ".dataframe > tbody > tr {\n",
       "  text-align: right;\n",
       "  white-space: pre-wrap;\n",
       "}\n",
       "</style>\n",
       "<small>shape: (135, 10)</small><table border=\"1\" class=\"dataframe\"><thead><tr><th>Base_Drug_Combo</th><th>Comp_INI</th><th>Comp_NNRTI</th><th>ExtraPI</th><th>ExtraPk_En</th><th>Avg_Time_VL_250</th><th>Avg_Time_VL_50</th><th>Avg_Time_CD4_500</th><th>Patient_Count</th><th>Suppression_Category</th></tr><tr><td>i64</td><td>i64</td><td>i64</td><td>i64</td><td>i64</td><td>f64</td><td>f64</td><td>f64</td><td>u32</td><td>str</td></tr></thead><tbody><tr><td>1</td><td>3</td><td>3</td><td>3</td><td>0</td><td>0.026217</td><td>0.862493</td><td>3.286893</td><td>567</td><td>&quot;Fast Suppression&quot;</td></tr><tr><td>5</td><td>3</td><td>0</td><td>0</td><td>0</td><td>1.5</td><td>3.0</td><td>5.0</td><td>63</td><td>&quot;Fast Suppression&quot;</td></tr><tr><td>1</td><td>3</td><td>3</td><td>4</td><td>0</td><td>1.660466</td><td>3.213638</td><td>2.7643</td><td>4725</td><td>&quot;Fast Suppression&quot;</td></tr><tr><td>5</td><td>3</td><td>2</td><td>0</td><td>0</td><td>3.022501</td><td>3.252747</td><td>11.118421</td><td>147</td><td>&quot;Fast Suppression&quot;</td></tr><tr><td>1</td><td>3</td><td>3</td><td>2</td><td>0</td><td>2.841571</td><td>4.003611</td><td>1.191388</td><td>1365</td><td>&quot;Fast Suppression&quot;</td></tr><tr><td>&hellip;</td><td>&hellip;</td><td>&hellip;</td><td>&hellip;</td><td>&hellip;</td><td>&hellip;</td><td>&hellip;</td><td>&hellip;</td><td>&hellip;</td><td>&hellip;</td></tr><tr><td>2</td><td>1</td><td>3</td><td>5</td><td>1</td><td>37.0</td><td>37.0</td><td>0.0</td><td>21</td><td>&quot;Slow Suppression&quot;</td></tr><tr><td>1</td><td>1</td><td>3</td><td>5</td><td>1</td><td>36.972973</td><td>37.243243</td><td>0.0</td><td>126</td><td>&quot;Slow Suppression&quot;</td></tr><tr><td>3</td><td>3</td><td>2</td><td>4</td><td>0</td><td>37.0</td><td>37.857143</td><td>0.0</td><td>63</td><td>&quot;Slow Suppression&quot;</td></tr><tr><td>1</td><td>0</td><td>3</td><td>5</td><td>1</td><td>36.918693</td><td>38.505319</td><td>0.0</td><td>231</td><td>&quot;Slow Suppression&quot;</td></tr><tr><td>2</td><td>3</td><td>3</td><td>3</td><td>0</td><td>34.993386</td><td>40.37594</td><td>1.372973</td><td>252</td><td>&quot;Slow Suppression&quot;</td></tr></tbody></table></div>"
      ],
      "text/plain": [
       "shape: (135, 10)\n",
       "┌────────────┬──────────┬────────────┬─────────┬───┬───────────┬───────────┬───────────┬───────────┐\n",
       "│ Base_Drug_ ┆ Comp_INI ┆ Comp_NNRTI ┆ ExtraPI ┆ … ┆ Avg_Time_ ┆ Avg_Time_ ┆ Patient_C ┆ Suppressi │\n",
       "│ Combo      ┆ ---      ┆ ---        ┆ ---     ┆   ┆ VL_50     ┆ CD4_500   ┆ ount      ┆ on_Catego │\n",
       "│ ---        ┆ i64      ┆ i64        ┆ i64     ┆   ┆ ---       ┆ ---       ┆ ---       ┆ ry        │\n",
       "│ i64        ┆          ┆            ┆         ┆   ┆ f64       ┆ f64       ┆ u32       ┆ ---       │\n",
       "│            ┆          ┆            ┆         ┆   ┆           ┆           ┆           ┆ str       │\n",
       "╞════════════╪══════════╪════════════╪═════════╪═══╪═══════════╪═══════════╪═══════════╪═══════════╡\n",
       "│ 1          ┆ 3        ┆ 3          ┆ 3       ┆ … ┆ 0.862493  ┆ 3.286893  ┆ 567       ┆ Fast Supp │\n",
       "│            ┆          ┆            ┆         ┆   ┆           ┆           ┆           ┆ ression   │\n",
       "│ 5          ┆ 3        ┆ 0          ┆ 0       ┆ … ┆ 3.0       ┆ 5.0       ┆ 63        ┆ Fast Supp │\n",
       "│            ┆          ┆            ┆         ┆   ┆           ┆           ┆           ┆ ression   │\n",
       "│ 1          ┆ 3        ┆ 3          ┆ 4       ┆ … ┆ 3.213638  ┆ 2.7643    ┆ 4725      ┆ Fast Supp │\n",
       "│            ┆          ┆            ┆         ┆   ┆           ┆           ┆           ┆ ression   │\n",
       "│ 5          ┆ 3        ┆ 2          ┆ 0       ┆ … ┆ 3.252747  ┆ 11.118421 ┆ 147       ┆ Fast Supp │\n",
       "│            ┆          ┆            ┆         ┆   ┆           ┆           ┆           ┆ ression   │\n",
       "│ 1          ┆ 3        ┆ 3          ┆ 2       ┆ … ┆ 4.003611  ┆ 1.191388  ┆ 1365      ┆ Fast Supp │\n",
       "│            ┆          ┆            ┆         ┆   ┆           ┆           ┆           ┆ ression   │\n",
       "│ …          ┆ …        ┆ …          ┆ …       ┆ … ┆ …         ┆ …         ┆ …         ┆ …         │\n",
       "│ 2          ┆ 1        ┆ 3          ┆ 5       ┆ … ┆ 37.0      ┆ 0.0       ┆ 21        ┆ Slow Supp │\n",
       "│            ┆          ┆            ┆         ┆   ┆           ┆           ┆           ┆ ression   │\n",
       "│ 1          ┆ 1        ┆ 3          ┆ 5       ┆ … ┆ 37.243243 ┆ 0.0       ┆ 126       ┆ Slow Supp │\n",
       "│            ┆          ┆            ┆         ┆   ┆           ┆           ┆           ┆ ression   │\n",
       "│ 3          ┆ 3        ┆ 2          ┆ 4       ┆ … ┆ 37.857143 ┆ 0.0       ┆ 63        ┆ Slow Supp │\n",
       "│            ┆          ┆            ┆         ┆   ┆           ┆           ┆           ┆ ression   │\n",
       "│ 1          ┆ 0        ┆ 3          ┆ 5       ┆ … ┆ 38.505319 ┆ 0.0       ┆ 231       ┆ Slow Supp │\n",
       "│            ┆          ┆            ┆         ┆   ┆           ┆           ┆           ┆ ression   │\n",
       "│ 2          ┆ 3        ┆ 3          ┆ 3       ┆ … ┆ 40.37594  ┆ 1.372973  ┆ 252       ┆ Slow Supp │\n",
       "│            ┆          ┆            ┆         ┆   ┆           ┆           ┆           ┆ ression   │\n",
       "└────────────┴──────────┴────────────┴─────────┴───┴───────────┴───────────┴───────────┴───────────┘"
      ]
     },
     "execution_count": 7,
     "metadata": {},
     "output_type": "execute_result"
    }
   ],
   "source": [
    "regimen_effectiveness = regimen_effectiveness.with_columns(\n",
    "    pl.when(pl.col(\"Avg_Time_VL_50\") <= 6)\n",
    "      .then(pl.lit(\"Fast Suppression\"))\n",
    "      .when(pl.col(\"Avg_Time_VL_50\") <= 24)\n",
    "      .then(pl.lit(\"Moderate Suppression\"))\n",
    "      .otherwise(pl.lit(\"Slow Suppression\"))\n",
    "      .alias(\"Suppression_Category\")\n",
    ")\n",
    "regimen_effectiveness\n"
   ]
  },
  {
   "cell_type": "code",
   "execution_count": 8,
   "id": "9ad27809-266a-4e9f-b123-9c22dac42570",
   "metadata": {},
   "outputs": [],
   "source": [
    "regimen_effectiveness.write_csv(\"regimen.csv\")"
   ]
  },
  {
   "cell_type": "code",
   "execution_count": 9,
   "id": "361b941e-84c8-43ee-bb6c-3d52a3b384c7",
   "metadata": {},
   "outputs": [
    {
     "data": {
      "text/html": [
       "<div><style>\n",
       ".dataframe > thead > tr,\n",
       ".dataframe > tbody > tr {\n",
       "  text-align: right;\n",
       "  white-space: pre-wrap;\n",
       "}\n",
       "</style>\n",
       "<small>shape: (3, 2)</small><table border=\"1\" class=\"dataframe\"><thead><tr><th>Suppression_Category</th><th>Total_Patients</th></tr><tr><td>str</td><td>u32</td></tr></thead><tbody><tr><td>&quot;Moderate Suppression&quot;</td><td>393960</td></tr><tr><td>&quot;Slow Suppression&quot;</td><td>68208</td></tr><tr><td>&quot;Fast Suppression&quot;</td><td>55482</td></tr></tbody></table></div>"
      ],
      "text/plain": [
       "shape: (3, 2)\n",
       "┌──────────────────────┬────────────────┐\n",
       "│ Suppression_Category ┆ Total_Patients │\n",
       "│ ---                  ┆ ---            │\n",
       "│ str                  ┆ u32            │\n",
       "╞══════════════════════╪════════════════╡\n",
       "│ Moderate Suppression ┆ 393960         │\n",
       "│ Slow Suppression     ┆ 68208          │\n",
       "│ Fast Suppression     ┆ 55482          │\n",
       "└──────────────────────┴────────────────┘"
      ]
     },
     "execution_count": 9,
     "metadata": {},
     "output_type": "execute_result"
    }
   ],
   "source": [
    "patient_distribution = (\n",
    "    regimen_effectiveness.group_by(\"Suppression_Category\")\n",
    "    .agg(\n",
    "        pl.col(\"Patient_Count\").sum().alias(\"Total_Patients\")\n",
    "    )\n",
    "    .sort(\"Total_Patients\", descending=True)  # Sort by Total_Patients in descending order\n",
    ")\n",
    "patient_distribution"
   ]
  },
  {
   "cell_type": "code",
   "execution_count": 10,
   "id": "0eccd479-d31a-411a-8c2d-9c7fbfa2d1ea",
   "metadata": {},
   "outputs": [
    {
     "data": {
      "text/html": [
       "<div><style>\n",
       ".dataframe > thead > tr,\n",
       ".dataframe > tbody > tr {\n",
       "  text-align: right;\n",
       "  white-space: pre-wrap;\n",
       "}\n",
       "</style>\n",
       "<small>shape: (119_511,)</small><table border=\"1\" class=\"dataframe\"><thead><tr><th>ID</th></tr><tr><td>str</td></tr></thead><tbody><tr><td>&quot;6174780774152393722&quot;</td></tr><tr><td>&quot;11255484168311151306&quot;</td></tr><tr><td>&quot;3731092474428722694&quot;</td></tr><tr><td>&quot;7834266247074563717&quot;</td></tr><tr><td>&quot;1802785353795914031&quot;</td></tr><tr><td>&hellip;</td></tr><tr><td>&quot;8993927349340331979&quot;</td></tr><tr><td>&quot;7162176985585786769&quot;</td></tr><tr><td>&quot;14782227150837613919&quot;</td></tr><tr><td>&quot;4632967678797065944&quot;</td></tr><tr><td>&quot;3678744507314224362&quot;</td></tr></tbody></table></div>"
      ],
      "text/plain": [
       "shape: (119_511,)\n",
       "Series: 'ID' [str]\n",
       "[\n",
       "\t\"6174780774152393722\"\n",
       "\t\"11255484168311151306\"\n",
       "\t\"3731092474428722694\"\n",
       "\t\"7834266247074563717\"\n",
       "\t\"1802785353795914031\"\n",
       "\t…\n",
       "\t\"8993927349340331979\"\n",
       "\t\"7162176985585786769\"\n",
       "\t\"14782227150837613919\"\n",
       "\t\"4632967678797065944\"\n",
       "\t\"3678744507314224362\"\n",
       "]"
      ]
     },
     "execution_count": 10,
     "metadata": {},
     "output_type": "execute_result"
    }
   ],
   "source": [
    "patient_regimen_changes = (\n",
    "    df.group_by(\"ID\")\n",
    "    .agg(\n",
    "        pl.struct([\"Base_Drug_Combo\", \"Comp_INI\", \"Comp_NNRTI\", \"ExtraPI\", \"ExtraPk_En\"])\n",
    "        .unique()\n",
    "        .count()\n",
    "        .alias(\"Unique_Regimens\")\n",
    "    )\n",
    "    .filter(pl.col(\"Unique_Regimens\") > 1)  # Keep only patients with more than 1 unique regimen\n",
    "    .select(\"ID\")  # Extract only the Patient_ID column\n",
    "    .to_series()  # Convert to a Series (equivalent to `pull()` in dplyr)\n",
    ")\n",
    "patient_regimen_changes"
   ]
  },
  {
   "cell_type": "code",
   "execution_count": 11,
   "id": "5986a370-8c47-4f54-97a1-a72791c469b8",
   "metadata": {},
   "outputs": [
    {
     "name": "stderr",
     "output_type": "stream",
     "text": [
      "sys:1: MapWithoutReturnDtypeWarning: Calling `map_elements` without specifying `return_dtype` can lead to unpredictable results. Specify `return_dtype` to silence this warning.\n",
      "sys:1: MapWithoutReturnDtypeWarning: Calling `map_elements` without specifying `return_dtype` can lead to unpredictable results. Specify `return_dtype` to silence this warning.\n",
      "sys:1: MapWithoutReturnDtypeWarning: Calling `map_elements` without specifying `return_dtype` can lead to unpredictable results. Specify `return_dtype` to silence this warning.\n"
     ]
    },
    {
     "data": {
      "text/html": [
       "<div><style>\n",
       ".dataframe > thead > tr,\n",
       ".dataframe > tbody > tr {\n",
       "  text-align: right;\n",
       "  white-space: pre-wrap;\n",
       "}\n",
       "</style>\n",
       "<small>shape: (187_236, 4)</small><table border=\"1\" class=\"dataframe\"><thead><tr><th>ID</th><th>VL less than 250 within 6 months</th><th>VL less than 60 within 12 months</th><th>CD4 Count greater than 500 within 24 months</th></tr><tr><td>str</td><td>str</td><td>str</td><td>str</td></tr></thead><tbody><tr><td>&quot;15430921406307017359&quot;</td><td>&quot;No&quot;</td><td>&quot;No&quot;</td><td>&quot;Yes&quot;</td></tr><tr><td>&quot;16235467586047301353&quot;</td><td>&quot;No&quot;</td><td>&quot;No&quot;</td><td>&quot;Yes&quot;</td></tr><tr><td>&quot;14563912293818742889&quot;</td><td>&quot;Yes&quot;</td><td>&quot;Yes&quot;</td><td>&quot;Yes&quot;</td></tr><tr><td>&quot;2492286676938457414&quot;</td><td>&quot;No&quot;</td><td>&quot;No&quot;</td><td>&quot;Yes&quot;</td></tr><tr><td>&quot;11828734763832412095&quot;</td><td>&quot;Yes&quot;</td><td>&quot;Yes&quot;</td><td>&quot;Yes&quot;</td></tr><tr><td>&hellip;</td><td>&hellip;</td><td>&hellip;</td><td>&hellip;</td></tr><tr><td>&quot;15406868102019743207&quot;</td><td>&quot;Yes&quot;</td><td>&quot;Yes&quot;</td><td>&quot;Yes&quot;</td></tr><tr><td>&quot;14035659624029201800&quot;</td><td>&quot;Yes&quot;</td><td>&quot;Yes&quot;</td><td>&quot;Yes&quot;</td></tr><tr><td>&quot;7583376106952734371&quot;</td><td>&quot;Yes&quot;</td><td>&quot;Yes&quot;</td><td>&quot;Yes&quot;</td></tr><tr><td>&quot;8348140893912591118&quot;</td><td>&quot;No&quot;</td><td>&quot;No&quot;</td><td>&quot;No&quot;</td></tr><tr><td>&quot;6072502362866551730&quot;</td><td>&quot;Yes&quot;</td><td>&quot;Yes&quot;</td><td>&quot;Yes&quot;</td></tr></tbody></table></div>"
      ],
      "text/plain": [
       "shape: (187_236, 4)\n",
       "┌──────────────────────┬──────────────────┬───────────────────────────┬────────────────────────┐\n",
       "│ ID                   ┆ VL less than 250 ┆ VL less than 60 within 12 ┆ CD4 Count greater than │\n",
       "│ ---                  ┆ within 6 mont…   ┆ mont…                     ┆ 500 wit…               │\n",
       "│ str                  ┆ ---              ┆ ---                       ┆ ---                    │\n",
       "│                      ┆ str              ┆ str                       ┆ str                    │\n",
       "╞══════════════════════╪══════════════════╪═══════════════════════════╪════════════════════════╡\n",
       "│ 15430921406307017359 ┆ No               ┆ No                        ┆ Yes                    │\n",
       "│ 16235467586047301353 ┆ No               ┆ No                        ┆ Yes                    │\n",
       "│ 14563912293818742889 ┆ Yes              ┆ Yes                       ┆ Yes                    │\n",
       "│ 2492286676938457414  ┆ No               ┆ No                        ┆ Yes                    │\n",
       "│ 11828734763832412095 ┆ Yes              ┆ Yes                       ┆ Yes                    │\n",
       "│ …                    ┆ …                ┆ …                         ┆ …                      │\n",
       "│ 15406868102019743207 ┆ Yes              ┆ Yes                       ┆ Yes                    │\n",
       "│ 14035659624029201800 ┆ Yes              ┆ Yes                       ┆ Yes                    │\n",
       "│ 7583376106952734371  ┆ Yes              ┆ Yes                       ┆ Yes                    │\n",
       "│ 8348140893912591118  ┆ No               ┆ No                        ┆ No                     │\n",
       "│ 6072502362866551730  ┆ Yes              ┆ Yes                       ┆ Yes                    │\n",
       "└──────────────────────┴──────────────────┴───────────────────────────┴────────────────────────┘"
      ]
     },
     "execution_count": 11,
     "metadata": {},
     "output_type": "execute_result"
    }
   ],
   "source": [
    "suppression_data = (\n",
    "    df.group_by(\"ID\")\n",
    "    .agg(\n",
    "        pl.col(\"Month\").filter(pl.col(\"VL\") <= 250).min().alias(\"First_VL_250\"),\n",
    "        pl.col(\"Month\").filter(pl.col(\"VL\") <= 50).min().alias(\"First_VL_50\"),\n",
    "        pl.col(\"Month\").filter(pl.col(\"CD4\") >= 500).min().alias(\"First_CD4_500\")\n",
    "    )\n",
    "    .with_columns(\n",
    "        (pl.col(\"First_VL_250\") <= 6).fill_null(False).map_elements(lambda x: \"Yes\" if x else \"No\").alias(\"VL less than 250 within 6 months\"),\n",
    "        (pl.col(\"First_VL_50\") <= 12).fill_null(False).map_elements(lambda x: \"Yes\" if x else \"No\").alias(\"VL less than 60 within 12 months\"),\n",
    "        (pl.col(\"First_CD4_500\") <= 24).fill_null(False).map_elements(lambda x: \"Yes\" if x else \"No\").alias(\"CD4 Count greater than 500 within 24 months\")\n",
    "    )\n",
    "    .select([\"ID\", \"VL less than 250 within 6 months\", \"VL less than 60 within 12 months\", \"CD4 Count greater than 500 within 24 months\"])\n",
    ")\n",
    "suppression_data"
   ]
  },
  {
   "cell_type": "code",
   "execution_count": 12,
   "id": "c67e3ba1-14a8-4887-be9d-5507c1c283dd",
   "metadata": {},
   "outputs": [
    {
     "data": {
      "text/html": [
       "<div><style>\n",
       ".dataframe > thead > tr,\n",
       ".dataframe > tbody > tr {\n",
       "  text-align: right;\n",
       "  white-space: pre-wrap;\n",
       "}\n",
       "</style>\n",
       "<small>shape: (517_650, 11)</small><table border=\"1\" class=\"dataframe\"><thead><tr><th>ID</th><th>Gender</th><th>Ethnic</th><th>Base_Drug_Combo</th><th>Comp_INI</th><th>Comp_NNRTI</th><th>ExtraPI</th><th>ExtraPk_En</th><th>VL less than 250 within 6 months</th><th>VL less than 60 within 12 months</th><th>CD4 Count greater than 500 within 24 months</th></tr><tr><td>str</td><td>i64</td><td>i64</td><td>i64</td><td>i64</td><td>i64</td><td>i64</td><td>i64</td><td>str</td><td>str</td><td>str</td></tr></thead><tbody><tr><td>&quot;17488760435271548988&quot;</td><td>1</td><td>4</td><td>0</td><td>3</td><td>2</td><td>5</td><td>0</td><td>&quot;No&quot;</td><td>&quot;No&quot;</td><td>&quot;Yes&quot;</td></tr><tr><td>&quot;14098641293179795513&quot;</td><td>1</td><td>4</td><td>1</td><td>0</td><td>3</td><td>5</td><td>0</td><td>&quot;Yes&quot;</td><td>&quot;No&quot;</td><td>&quot;Yes&quot;</td></tr><tr><td>&quot;13353909637949978659&quot;</td><td>1</td><td>4</td><td>0</td><td>2</td><td>3</td><td>5</td><td>1</td><td>&quot;No&quot;</td><td>&quot;Yes&quot;</td><td>&quot;Yes&quot;</td></tr><tr><td>&quot;2915616291018843263&quot;</td><td>2</td><td>3</td><td>1</td><td>3</td><td>3</td><td>0</td><td>0</td><td>&quot;Yes&quot;</td><td>&quot;Yes&quot;</td><td>&quot;Yes&quot;</td></tr><tr><td>&quot;143057030681215354&quot;</td><td>1</td><td>4</td><td>0</td><td>3</td><td>2</td><td>5</td><td>0</td><td>&quot;Yes&quot;</td><td>&quot;Yes&quot;</td><td>&quot;Yes&quot;</td></tr><tr><td>&hellip;</td><td>&hellip;</td><td>&hellip;</td><td>&hellip;</td><td>&hellip;</td><td>&hellip;</td><td>&hellip;</td><td>&hellip;</td><td>&hellip;</td><td>&hellip;</td><td>&hellip;</td></tr><tr><td>&quot;3396950583161209948&quot;</td><td>1</td><td>3</td><td>0</td><td>3</td><td>1</td><td>5</td><td>0</td><td>&quot;Yes&quot;</td><td>&quot;Yes&quot;</td><td>&quot;Yes&quot;</td></tr><tr><td>&quot;6342402611855677974&quot;</td><td>1</td><td>4</td><td>3</td><td>3</td><td>3</td><td>0</td><td>0</td><td>&quot;Yes&quot;</td><td>&quot;Yes&quot;</td><td>&quot;Yes&quot;</td></tr><tr><td>&quot;14097795742850768820&quot;</td><td>1</td><td>3</td><td>2</td><td>0</td><td>3</td><td>5</td><td>0</td><td>&quot;No&quot;</td><td>&quot;No&quot;</td><td>&quot;Yes&quot;</td></tr><tr><td>&quot;15562692763974841092&quot;</td><td>2</td><td>2</td><td>3</td><td>3</td><td>3</td><td>4</td><td>0</td><td>&quot;Yes&quot;</td><td>&quot;Yes&quot;</td><td>&quot;Yes&quot;</td></tr><tr><td>&quot;332073376169279840&quot;</td><td>2</td><td>1</td><td>3</td><td>3</td><td>3</td><td>1</td><td>0</td><td>&quot;Yes&quot;</td><td>&quot;Yes&quot;</td><td>&quot;Yes&quot;</td></tr></tbody></table></div>"
      ],
      "text/plain": [
       "shape: (517_650, 11)\n",
       "┌────────────┬────────┬────────┬────────────┬───┬────────────┬────────────┬────────────┬───────────┐\n",
       "│ ID         ┆ Gender ┆ Ethnic ┆ Base_Drug_ ┆ … ┆ ExtraPk_En ┆ VL less    ┆ VL less    ┆ CD4 Count │\n",
       "│ ---        ┆ ---    ┆ ---    ┆ Combo      ┆   ┆ ---        ┆ than 250   ┆ than 60    ┆ greater   │\n",
       "│ str        ┆ i64    ┆ i64    ┆ ---        ┆   ┆ i64        ┆ within 6   ┆ within 12  ┆ than 500  │\n",
       "│            ┆        ┆        ┆ i64        ┆   ┆            ┆ mont…      ┆ mont…      ┆ wit…      │\n",
       "│            ┆        ┆        ┆            ┆   ┆            ┆ ---        ┆ ---        ┆ ---       │\n",
       "│            ┆        ┆        ┆            ┆   ┆            ┆ str        ┆ str        ┆ str       │\n",
       "╞════════════╪════════╪════════╪════════════╪═══╪════════════╪════════════╪════════════╪═══════════╡\n",
       "│ 1748876043 ┆ 1      ┆ 4      ┆ 0          ┆ … ┆ 0          ┆ No         ┆ No         ┆ Yes       │\n",
       "│ 5271548988 ┆        ┆        ┆            ┆   ┆            ┆            ┆            ┆           │\n",
       "│ 1409864129 ┆ 1      ┆ 4      ┆ 1          ┆ … ┆ 0          ┆ Yes        ┆ No         ┆ Yes       │\n",
       "│ 3179795513 ┆        ┆        ┆            ┆   ┆            ┆            ┆            ┆           │\n",
       "│ 1335390963 ┆ 1      ┆ 4      ┆ 0          ┆ … ┆ 1          ┆ No         ┆ Yes        ┆ Yes       │\n",
       "│ 7949978659 ┆        ┆        ┆            ┆   ┆            ┆            ┆            ┆           │\n",
       "│ 2915616291 ┆ 2      ┆ 3      ┆ 1          ┆ … ┆ 0          ┆ Yes        ┆ Yes        ┆ Yes       │\n",
       "│ 018843263  ┆        ┆        ┆            ┆   ┆            ┆            ┆            ┆           │\n",
       "│ 1430570306 ┆ 1      ┆ 4      ┆ 0          ┆ … ┆ 0          ┆ Yes        ┆ Yes        ┆ Yes       │\n",
       "│ 81215354   ┆        ┆        ┆            ┆   ┆            ┆            ┆            ┆           │\n",
       "│ …          ┆ …      ┆ …      ┆ …          ┆ … ┆ …          ┆ …          ┆ …          ┆ …         │\n",
       "│ 3396950583 ┆ 1      ┆ 3      ┆ 0          ┆ … ┆ 0          ┆ Yes        ┆ Yes        ┆ Yes       │\n",
       "│ 161209948  ┆        ┆        ┆            ┆   ┆            ┆            ┆            ┆           │\n",
       "│ 6342402611 ┆ 1      ┆ 4      ┆ 3          ┆ … ┆ 0          ┆ Yes        ┆ Yes        ┆ Yes       │\n",
       "│ 855677974  ┆        ┆        ┆            ┆   ┆            ┆            ┆            ┆           │\n",
       "│ 1409779574 ┆ 1      ┆ 3      ┆ 2          ┆ … ┆ 0          ┆ No         ┆ No         ┆ Yes       │\n",
       "│ 2850768820 ┆        ┆        ┆            ┆   ┆            ┆            ┆            ┆           │\n",
       "│ 1556269276 ┆ 2      ┆ 2      ┆ 3          ┆ … ┆ 0          ┆ Yes        ┆ Yes        ┆ Yes       │\n",
       "│ 3974841092 ┆        ┆        ┆            ┆   ┆            ┆            ┆            ┆           │\n",
       "│ 3320733761 ┆ 2      ┆ 1      ┆ 3          ┆ … ┆ 0          ┆ Yes        ┆ Yes        ┆ Yes       │\n",
       "│ 69279840   ┆        ┆        ┆            ┆   ┆            ┆            ┆            ┆           │\n",
       "└────────────┴────────┴────────┴────────────┴───┴────────────┴────────────┴────────────┴───────────┘"
      ]
     },
     "execution_count": 12,
     "metadata": {},
     "output_type": "execute_result"
    }
   ],
   "source": [
    "# Select relevant columns and keep unique Patient-Regimen pairs\n",
    "final_table = (\n",
    "    df.select([\"ID\", \"Gender\", \"Ethnic\", \"Base_Drug_Combo\", \"Comp_INI\", \"Comp_NNRTI\", \"ExtraPI\", \"ExtraPk_En\"])\n",
    "    .unique()  # Equivalent to distinct() in dplyr\n",
    ")\n",
    "\n",
    "# Filter: Keep all rows for patients who changed regimens, else keep the first occurrence\n",
    "final_table = final_table.filter(\n",
    "    pl.col(\"ID\").is_in(patient_regimen_changes) | ~pl.col(\"ID\").is_duplicated()\n",
    ")\n",
    "\n",
    "# Left join with suppression_data on Patient_ID\n",
    "final_table = final_table.join(suppression_data, on=\"ID\", how=\"left\")\n",
    "\n",
    "final_table"
   ]
  },
  {
   "cell_type": "code",
   "execution_count": 13,
   "id": "f062e13f-5da5-4043-8cd2-c57e6cb50ed7",
   "metadata": {},
   "outputs": [
    {
     "name": "stderr",
     "output_type": "stream",
     "text": [
      "/var/folders/wc/wf8d41213dxfd0jz8k4gpjlr0000gn/T/ipykernel_49415/3090567628.py:1: MapWithoutReturnDtypeWarning: Calling `map_elements` without specifying `return_dtype` can lead to unpredictable results. Specify `return_dtype` to silence this warning.\n",
      "  final_table = final_table.with_columns(\n"
     ]
    },
    {
     "data": {
      "text/html": [
       "<div><style>\n",
       ".dataframe > thead > tr,\n",
       ".dataframe > tbody > tr {\n",
       "  text-align: right;\n",
       "  white-space: pre-wrap;\n",
       "}\n",
       "</style>\n",
       "<small>shape: (517_650, 12)</small><table border=\"1\" class=\"dataframe\"><thead><tr><th>ID</th><th>Gender</th><th>Ethnic</th><th>Base_Drug_Combo</th><th>Comp_INI</th><th>Comp_NNRTI</th><th>ExtraPI</th><th>ExtraPk_En</th><th>VL less than 250 within 6 months</th><th>VL less than 60 within 12 months</th><th>CD4 Count greater than 500 within 24 months</th><th>Regimen Effectiveness</th></tr><tr><td>str</td><td>i64</td><td>i64</td><td>i64</td><td>i64</td><td>i64</td><td>i64</td><td>i64</td><td>str</td><td>str</td><td>str</td><td>str</td></tr></thead><tbody><tr><td>&quot;17488760435271548988&quot;</td><td>1</td><td>4</td><td>0</td><td>3</td><td>2</td><td>5</td><td>0</td><td>&quot;No&quot;</td><td>&quot;No&quot;</td><td>&quot;Yes&quot;</td><td>&quot;No&quot;</td></tr><tr><td>&quot;14098641293179795513&quot;</td><td>1</td><td>4</td><td>1</td><td>0</td><td>3</td><td>5</td><td>0</td><td>&quot;Yes&quot;</td><td>&quot;No&quot;</td><td>&quot;Yes&quot;</td><td>&quot;No&quot;</td></tr><tr><td>&quot;13353909637949978659&quot;</td><td>1</td><td>4</td><td>0</td><td>2</td><td>3</td><td>5</td><td>1</td><td>&quot;No&quot;</td><td>&quot;Yes&quot;</td><td>&quot;Yes&quot;</td><td>&quot;No&quot;</td></tr><tr><td>&quot;2915616291018843263&quot;</td><td>2</td><td>3</td><td>1</td><td>3</td><td>3</td><td>0</td><td>0</td><td>&quot;Yes&quot;</td><td>&quot;Yes&quot;</td><td>&quot;Yes&quot;</td><td>&quot;Yes&quot;</td></tr><tr><td>&quot;143057030681215354&quot;</td><td>1</td><td>4</td><td>0</td><td>3</td><td>2</td><td>5</td><td>0</td><td>&quot;Yes&quot;</td><td>&quot;Yes&quot;</td><td>&quot;Yes&quot;</td><td>&quot;Yes&quot;</td></tr><tr><td>&hellip;</td><td>&hellip;</td><td>&hellip;</td><td>&hellip;</td><td>&hellip;</td><td>&hellip;</td><td>&hellip;</td><td>&hellip;</td><td>&hellip;</td><td>&hellip;</td><td>&hellip;</td><td>&hellip;</td></tr><tr><td>&quot;3396950583161209948&quot;</td><td>1</td><td>3</td><td>0</td><td>3</td><td>1</td><td>5</td><td>0</td><td>&quot;Yes&quot;</td><td>&quot;Yes&quot;</td><td>&quot;Yes&quot;</td><td>&quot;Yes&quot;</td></tr><tr><td>&quot;6342402611855677974&quot;</td><td>1</td><td>4</td><td>3</td><td>3</td><td>3</td><td>0</td><td>0</td><td>&quot;Yes&quot;</td><td>&quot;Yes&quot;</td><td>&quot;Yes&quot;</td><td>&quot;Yes&quot;</td></tr><tr><td>&quot;14097795742850768820&quot;</td><td>1</td><td>3</td><td>2</td><td>0</td><td>3</td><td>5</td><td>0</td><td>&quot;No&quot;</td><td>&quot;No&quot;</td><td>&quot;Yes&quot;</td><td>&quot;No&quot;</td></tr><tr><td>&quot;15562692763974841092&quot;</td><td>2</td><td>2</td><td>3</td><td>3</td><td>3</td><td>4</td><td>0</td><td>&quot;Yes&quot;</td><td>&quot;Yes&quot;</td><td>&quot;Yes&quot;</td><td>&quot;Yes&quot;</td></tr><tr><td>&quot;332073376169279840&quot;</td><td>2</td><td>1</td><td>3</td><td>3</td><td>3</td><td>1</td><td>0</td><td>&quot;Yes&quot;</td><td>&quot;Yes&quot;</td><td>&quot;Yes&quot;</td><td>&quot;Yes&quot;</td></tr></tbody></table></div>"
      ],
      "text/plain": [
       "shape: (517_650, 12)\n",
       "┌────────────┬────────┬────────┬────────────┬───┬────────────┬────────────┬────────────┬───────────┐\n",
       "│ ID         ┆ Gender ┆ Ethnic ┆ Base_Drug_ ┆ … ┆ VL less    ┆ VL less    ┆ CD4 Count  ┆ Regimen   │\n",
       "│ ---        ┆ ---    ┆ ---    ┆ Combo      ┆   ┆ than 250   ┆ than 60    ┆ greater    ┆ Effective │\n",
       "│ str        ┆ i64    ┆ i64    ┆ ---        ┆   ┆ within 6   ┆ within 12  ┆ than 500   ┆ ness      │\n",
       "│            ┆        ┆        ┆ i64        ┆   ┆ mont…      ┆ mont…      ┆ wit…       ┆ ---       │\n",
       "│            ┆        ┆        ┆            ┆   ┆ ---        ┆ ---        ┆ ---        ┆ str       │\n",
       "│            ┆        ┆        ┆            ┆   ┆ str        ┆ str        ┆ str        ┆           │\n",
       "╞════════════╪════════╪════════╪════════════╪═══╪════════════╪════════════╪════════════╪═══════════╡\n",
       "│ 1748876043 ┆ 1      ┆ 4      ┆ 0          ┆ … ┆ No         ┆ No         ┆ Yes        ┆ No        │\n",
       "│ 5271548988 ┆        ┆        ┆            ┆   ┆            ┆            ┆            ┆           │\n",
       "│ 1409864129 ┆ 1      ┆ 4      ┆ 1          ┆ … ┆ Yes        ┆ No         ┆ Yes        ┆ No        │\n",
       "│ 3179795513 ┆        ┆        ┆            ┆   ┆            ┆            ┆            ┆           │\n",
       "│ 1335390963 ┆ 1      ┆ 4      ┆ 0          ┆ … ┆ No         ┆ Yes        ┆ Yes        ┆ No        │\n",
       "│ 7949978659 ┆        ┆        ┆            ┆   ┆            ┆            ┆            ┆           │\n",
       "│ 2915616291 ┆ 2      ┆ 3      ┆ 1          ┆ … ┆ Yes        ┆ Yes        ┆ Yes        ┆ Yes       │\n",
       "│ 018843263  ┆        ┆        ┆            ┆   ┆            ┆            ┆            ┆           │\n",
       "│ 1430570306 ┆ 1      ┆ 4      ┆ 0          ┆ … ┆ Yes        ┆ Yes        ┆ Yes        ┆ Yes       │\n",
       "│ 81215354   ┆        ┆        ┆            ┆   ┆            ┆            ┆            ┆           │\n",
       "│ …          ┆ …      ┆ …      ┆ …          ┆ … ┆ …          ┆ …          ┆ …          ┆ …         │\n",
       "│ 3396950583 ┆ 1      ┆ 3      ┆ 0          ┆ … ┆ Yes        ┆ Yes        ┆ Yes        ┆ Yes       │\n",
       "│ 161209948  ┆        ┆        ┆            ┆   ┆            ┆            ┆            ┆           │\n",
       "│ 6342402611 ┆ 1      ┆ 4      ┆ 3          ┆ … ┆ Yes        ┆ Yes        ┆ Yes        ┆ Yes       │\n",
       "│ 855677974  ┆        ┆        ┆            ┆   ┆            ┆            ┆            ┆           │\n",
       "│ 1409779574 ┆ 1      ┆ 3      ┆ 2          ┆ … ┆ No         ┆ No         ┆ Yes        ┆ No        │\n",
       "│ 2850768820 ┆        ┆        ┆            ┆   ┆            ┆            ┆            ┆           │\n",
       "│ 1556269276 ┆ 2      ┆ 2      ┆ 3          ┆ … ┆ Yes        ┆ Yes        ┆ Yes        ┆ Yes       │\n",
       "│ 3974841092 ┆        ┆        ┆            ┆   ┆            ┆            ┆            ┆           │\n",
       "│ 3320733761 ┆ 2      ┆ 1      ┆ 3          ┆ … ┆ Yes        ┆ Yes        ┆ Yes        ┆ Yes       │\n",
       "│ 69279840   ┆        ┆        ┆            ┆   ┆            ┆            ┆            ┆           │\n",
       "└────────────┴────────┴────────┴────────────┴───┴────────────┴────────────┴────────────┴───────────┘"
      ]
     },
     "execution_count": 13,
     "metadata": {},
     "output_type": "execute_result"
    }
   ],
   "source": [
    "\n",
    "final_table = final_table.with_columns(\n",
    "    ( \n",
    "        (pl.col(\"VL less than 250 within 6 months\") == \"Yes\") & \n",
    "        (pl.col(\"VL less than 60 within 12 months\") == \"Yes\") & \n",
    "        (pl.col(\"CD4 Count greater than 500 within 24 months\") == \"Yes\")\n",
    "    )\n",
    "    .map_elements(lambda x: \"Yes\" if x else \"No\")\n",
    "    .alias(\"Regimen Effectiveness\")\n",
    ")\n",
    "\n",
    "final_table\n"
   ]
  },
  {
   "cell_type": "code",
   "execution_count": 14,
   "id": "bde6e228-aac5-4cf8-b2ca-8f7bf6250fb3",
   "metadata": {},
   "outputs": [
    {
     "name": "stdout",
     "output_type": "stream",
     "text": [
      "shape: (2, 2)\n",
      "┌───────────────────────┬────────┐\n",
      "│ Regimen Effectiveness ┆ Total  │\n",
      "│ ---                   ┆ ---    │\n",
      "│ str                   ┆ u32    │\n",
      "╞═══════════════════════╪════════╡\n",
      "│ Yes                   ┆ 172194 │\n",
      "│ No                    ┆ 345456 │\n",
      "└───────────────────────┴────────┘\n"
     ]
    }
   ],
   "source": [
    "effectiveness_summary = (\n",
    "    final_table.group_by(\"Regimen Effectiveness\")\n",
    "    .agg(\n",
    "        pl.len().alias(\"Total\")  # Count number of rows in each group\n",
    "    )\n",
    ")\n",
    "\n",
    "print(effectiveness_summary)"
   ]
  },
  {
   "cell_type": "code",
   "execution_count": 14,
   "id": "0c4efcac-2ad6-45b2-ae8c-464c14013a75",
   "metadata": {},
   "outputs": [
    {
     "name": "stdout",
     "output_type": "stream",
     "text": [
      "shape: (135, 7)\n",
      "┌─────────────────┬──────────┬────────────┬─────────┬────────────┬──────────────┬────────────────┐\n",
      "│ Base_Drug_Combo ┆ Comp_INI ┆ Comp_NNRTI ┆ ExtraPI ┆ ExtraPk_En ┆ Success_Rate ┆ Total_Patients │\n",
      "│ ---             ┆ ---      ┆ ---        ┆ ---     ┆ ---        ┆ ---          ┆ ---            │\n",
      "│ i64             ┆ i64      ┆ i64        ┆ i64     ┆ i64        ┆ f64          ┆ u32            │\n",
      "╞═════════════════╪══════════╪════════════╪═════════╪════════════╪══════════════╪════════════════╡\n",
      "│ 2               ┆ 3        ┆ 2          ┆ 0       ┆ 1          ┆ 1.0          ┆ 63             │\n",
      "│ 5               ┆ 3        ┆ 0          ┆ 0       ┆ 0          ┆ 1.0          ┆ 63             │\n",
      "│ 5               ┆ 1        ┆ 3          ┆ 5       ┆ 0          ┆ 1.0          ┆ 21             │\n",
      "│ 0               ┆ 0        ┆ 3          ┆ 2       ┆ 0          ┆ 1.0          ┆ 21             │\n",
      "│ 5               ┆ 3        ┆ 3          ┆ 2       ┆ 0          ┆ 1.0          ┆ 126            │\n",
      "│ …               ┆ …        ┆ …          ┆ …       ┆ …          ┆ …            ┆ …              │\n",
      "│ 0               ┆ 3        ┆ 2          ┆ 4       ┆ 0          ┆ 0.0          ┆ 147            │\n",
      "│ 0               ┆ 1        ┆ 3          ┆ 1       ┆ 0          ┆ 0.0          ┆ 63             │\n",
      "│ 3               ┆ 3        ┆ 2          ┆ 1       ┆ 0          ┆ 0.0          ┆ 504            │\n",
      "│ 0               ┆ 3        ┆ 3          ┆ 4       ┆ 1          ┆ 0.0          ┆ 105            │\n",
      "│ 2               ┆ 3        ┆ 3          ┆ 3       ┆ 0          ┆ 0.0          ┆ 252            │\n",
      "└─────────────────┴──────────┴────────────┴─────────┴────────────┴──────────────┴────────────────┘\n"
     ]
    }
   ],
   "source": [
    "effectiveness_by_regimen = (\n",
    "    final_table.group_by([\"Base_Drug_Combo\", \"Comp_INI\", \"Comp_NNRTI\", \"ExtraPI\", \"ExtraPk_En\"])\n",
    "    .agg(\n",
    "        (pl.col(\"Regimen Effectiveness\") == \"Yes\").mean().alias(\"Success_Rate\"),  # Compute mean of boolean conversion\n",
    "        pl.len().alias(\"Total_Patients\")  # Count total patients in each regimen group\n",
    "    )\n",
    "    .sort(\"Success_Rate\", descending=True)  # Sort by highest success rate\n",
    ")\n",
    "\n",
    "print(effectiveness_by_regimen)"
   ]
  },
  {
   "cell_type": "code",
   "execution_count": 15,
   "id": "ae5b5340-4bae-4aa7-a8a7-78b061358103",
   "metadata": {},
   "outputs": [
    {
     "name": "stdout",
     "output_type": "stream",
     "text": [
      "shape: (2, 3)\n",
      "┌────────┬────────┬────────┐\n",
      "│ Gender ┆ Yes    ┆ No     │\n",
      "│ ---    ┆ ---    ┆ ---    │\n",
      "│ i64    ┆ u32    ┆ u32    │\n",
      "╞════════╪════════╪════════╡\n",
      "│ 2      ┆ 29302  ┆ 47789  │\n",
      "│ 1      ┆ 142892 ┆ 297667 │\n",
      "└────────┴────────┴────────┘\n"
     ]
    },
    {
     "name": "stderr",
     "output_type": "stream",
     "text": [
      "/var/folders/wc/wf8d41213dxfd0jz8k4gpjlr0000gn/T/ipykernel_48318/3689593933.py:4: DeprecationWarning: The argument `columns` for `DataFrame.pivot` is deprecated. It has been renamed to `on`.\n",
      "  .pivot(\n"
     ]
    }
   ],
   "source": [
    "effectiveness_by_gender = (\n",
    "    final_table.group_by([\"Gender\", \"Regimen Effectiveness\"])\n",
    "    .agg(pl.len().alias(\"Count\"))  # Count occurrences\n",
    "    .pivot(\n",
    "        values=\"Count\",\n",
    "        index=\"Gender\",\n",
    "        columns=\"Regimen Effectiveness\",\n",
    "        aggregate_function=\"first\"\n",
    "    )\n",
    "    .fill_null(0)  # Fill missing values with 0\n",
    ")\n",
    "\n",
    "print(effectiveness_by_gender)"
   ]
  },
  {
   "cell_type": "code",
   "execution_count": 16,
   "id": "4577c3ea-cd50-4503-adb8-47bd5f388b6d",
   "metadata": {},
   "outputs": [
    {
     "name": "stdout",
     "output_type": "stream",
     "text": [
      "shape: (4, 3)\n",
      "┌────────┬───────┬────────┐\n",
      "│ Ethnic ┆ Yes   ┆ No     │\n",
      "│ ---    ┆ ---   ┆ ---    │\n",
      "│ i64    ┆ u32   ┆ u32    │\n",
      "╞════════╪═══════╪════════╡\n",
      "│ 1      ┆ 6887  ┆ 526    │\n",
      "│ 2      ┆ 24564 ┆ 36210  │\n",
      "│ 3      ┆ 68809 ┆ 54797  │\n",
      "│ 4      ┆ 71934 ┆ 253923 │\n",
      "└────────┴───────┴────────┘\n"
     ]
    },
    {
     "name": "stderr",
     "output_type": "stream",
     "text": [
      "/var/folders/wc/wf8d41213dxfd0jz8k4gpjlr0000gn/T/ipykernel_48318/931759704.py:4: DeprecationWarning: The argument `columns` for `DataFrame.pivot` is deprecated. It has been renamed to `on`.\n",
      "  .pivot(\n"
     ]
    }
   ],
   "source": [
    "effectiveness_by_ethnicity = (\n",
    "    final_table.group_by([\"Ethnic\", \"Regimen Effectiveness\"])\n",
    "    .agg(pl.len().alias(\"Count\"))  # Count occurrences\n",
    "    .pivot(\n",
    "        values=\"Count\",\n",
    "        index=\"Ethnic\",\n",
    "        columns=\"Regimen Effectiveness\",\n",
    "        aggregate_function=\"first\"\n",
    "    )\n",
    "    .fill_null(0)  # Fill missing values with 0\n",
    ")\n",
    "\n",
    "print(effectiveness_by_ethnicity)"
   ]
  },
  {
   "cell_type": "code",
   "execution_count": 17,
   "id": "87b44220-b878-4864-af1c-5a100a0f626b",
   "metadata": {},
   "outputs": [
    {
     "data": {
      "image/png": "[encoded data removed]",
      "text/plain": [
       "<Figure size 800x500 with 1 Axes>"
      ]
     },
     "metadata": {},
     "output_type": "display_data"
    }
   ],
   "source": [
    "import matplotlib.pyplot as plt\n",
    "\n",
    "# Convert Polars DataFrame to Pandas for plotting\n",
    "df_plot = effectiveness_summary.to_pandas()\n",
    "\n",
    "# Create bar chart\n",
    "plt.figure(figsize=(8, 5))\n",
    "plt.bar(df_plot[\"Regimen Effectiveness\"], df_plot[\"Total\"], color=[\"#1f77b4\", \"#ff7f0e\"])  # Customize colors if needed\n",
    "\n",
    "# Labels and title\n",
    "plt.xlabel(\"Effectiveness\")\n",
    "plt.ylabel(\"Number of Patients\")\n",
    "plt.title(\"Overall Regimen Effectiveness\")\n",
    "\n",
    "# Show the plot\n",
    "plt.show()\n"
   ]
  },
  {
   "cell_type": "code",
   "execution_count": 18,
   "id": "da1d0ae5-e9d9-4e2c-9015-13dfbcd3b923",
   "metadata": {},
   "outputs": [
    {
     "data": {
      "image/png": "[encoded data removed]",
      "text/plain": [
       "<Figure size 800x500 with 1 Axes>"
      ]
     },
     "metadata": {},
     "output_type": "display_data"
    }
   ],
   "source": [
    "import matplotlib.pyplot as plt\n",
    "\n",
    "# Convert Polars DataFrame to Pandas for plotting\n",
    "df_plot = effectiveness_by_regimen.to_pandas()\n",
    "\n",
    "# Create bar chart\n",
    "plt.figure(figsize=(8, 5))\n",
    "plt.bar(df_plot[\"Success_Rate\"], df_plot[\"Total_Patients\"], color=[\"#1f77b4\", \"#ff7f0e\"])  # Customize colors if needed\n",
    "\n",
    "# Labels and title\n",
    "plt.xlabel(\"Effectiveness\")\n",
    "plt.ylabel(\"Number of Patients\")\n",
    "plt.title(\"Overall Regimen Effectiveness\")\n",
    "\n",
    "# Show the plot\n",
    "plt.show()\n"
   ]
  },
  {
   "cell_type": "code",
   "execution_count": 19,
   "id": "a922d73f-e3ea-4145-a65c-d0d3b986aecc",
   "metadata": {},
   "outputs": [
    {
     "data": {
      "image/png": "[encoded data removed]",
      "text/plain": [
       "<Figure size 800x500 with 1 Axes>"
      ]
     },
     "metadata": {},
     "output_type": "display_data"
    }
   ],
   "source": [
    "import matplotlib.pyplot as plt\n",
    "import pandas as pd\n",
    "\n",
    "# Manually create the dataframe based on the provided data\n",
    "data = {\n",
    "    \"Gender\": [\"Male\", \"Female\"],  # Assuming 1 = Male, 2 = Female\n",
    "    \"Yes\": [142892, 29302],  # Number of effective regimens\n",
    "}\n",
    "\n",
    "# Convert to Pandas DataFrame\n",
    "df_plot = pd.DataFrame(data)\n",
    "\n",
    "# Create bar chart\n",
    "plt.figure(figsize=(8, 5))\n",
    "plt.bar(df_plot[\"Gender\"], df_plot[\"Yes\"], color=[\"#1f77b4\", \"#ff7f0e\"])  # Custom colors for Male and Female\n",
    "\n",
    "# Labels and title\n",
    "plt.xlabel(\"Gender\")\n",
    "plt.ylabel(\"Number of Effective Regimens\")\n",
    "plt.title(\"Effectiveness by Gender\")\n",
    "\n",
    "# Show the plot\n",
    "plt.show()\n"
   ]
  },
  {
   "cell_type": "code",
   "execution_count": 20,
   "id": "d12c3904-2dd1-4cd9-8a9f-1982fb4e8ba5",
   "metadata": {},
   "outputs": [
    {
     "data": {
      "image/png": "[encoded data removed]",
      "text/plain": [
       "<Figure size 1000x600 with 1 Axes>"
      ]
     },
     "metadata": {},
     "output_type": "display_data"
    }
   ],
   "source": [
    "# Sample data for effectiveness by ethnicity (Replace with actual data if available)\n",
    "data_ethnicity = {\n",
    "    \"Ethnic\": [\"Asian\", \"Black\", \"White\", \"Other\"],  # Example ethnic groups\n",
    "    \"Yes\": [92.9, 40.4, 55.6, 22.0],  # Number of effective regimens\n",
    "}\n",
    "\n",
    "# Convert to Pandas DataFrame\n",
    "df_ethnicity = pd.DataFrame(data_ethnicity)\n",
    "\n",
    "# Create bar chart\n",
    "plt.figure(figsize=(10, 6))\n",
    "plt.bar(df_ethnicity[\"Ethnic\"], df_ethnicity[\"Yes\"], color = [\"#A2D5C6\", \"#87CEEB\", \"#E6E6FA\", \"#FFDAB9\"])  # Custom colors\n",
    "\n",
    "# Labels and title\n",
    "plt.xlabel(\"Ethnicity\")\n",
    "plt.ylabel(\"Percentage of Effective Regimens\")\n",
    "plt.title(\"Effectiveness by Ethnicity\")\n",
    "\n",
    "# Rotate x-axis labels for better readability\n",
    "plt.xticks(rotation=45, ha=\"right\")\n",
    "\n",
    "plt.savefig('chart.png')\n",
    "# Show the plot\n",
    "plt.show()\n"
   ]
  },
  {
   "cell_type": "code",
   "execution_count": 28,
   "id": "e54b4217-290f-441e-868d-24fefec46cc8",
   "metadata": {},
   "outputs": [
    {
     "data": {
      "text/html": [
       "<div><style>\n",
       ".dataframe > thead > tr,\n",
       ".dataframe > tbody > tr {\n",
       "  text-align: right;\n",
       "  white-space: pre-wrap;\n",
       "}\n",
       "</style>\n",
       "<small>shape: (11_234_160, 18)</small><table border=\"1\" class=\"dataframe\"><thead><tr><th>ID</th><th>VL less than 250 within 6 months</th><th>VL less than 60 within 12 months</th><th>CD4 Count greater than 500 within 24 months</th><th>Month</th><th>Gender</th><th>Ethnic</th><th>Base_Drug_Combo</th><th>Comp_INI</th><th>Comp_NNRTI</th><th>ExtraPI</th><th>ExtraPk_En</th><th>VL_M</th><th>CD4_M</th><th>Drug_M</th><th>VL</th><th>CD4</th><th>RelCD4</th></tr><tr><td>str</td><td>str</td><td>str</td><td>str</td><td>i64</td><td>i64</td><td>i64</td><td>i64</td><td>i64</td><td>i64</td><td>i64</td><td>i64</td><td>i64</td><td>i64</td><td>i64</td><td>f64</td><td>f64</td><td>f64</td></tr></thead><tbody><tr><td>&quot;5182659397319460289&quot;</td><td>&quot;Yes&quot;</td><td>&quot;Yes&quot;</td><td>&quot;Yes&quot;</td><td>0</td><td>1</td><td>2</td><td>3</td><td>3</td><td>3</td><td>3</td><td>0</td><td>1</td><td>1</td><td>1</td><td>203.26554</td><td>1111.531161</td><td>25.865305</td></tr><tr><td>&quot;5182659397319460289&quot;</td><td>&quot;Yes&quot;</td><td>&quot;Yes&quot;</td><td>&quot;Yes&quot;</td><td>1</td><td>1</td><td>2</td><td>3</td><td>3</td><td>3</td><td>3</td><td>0</td><td>0</td><td>0</td><td>1</td><td>217.690727</td><td>787.390787</td><td>42.567234</td></tr><tr><td>&quot;5182659397319460289&quot;</td><td>&quot;Yes&quot;</td><td>&quot;Yes&quot;</td><td>&quot;Yes&quot;</td><td>2</td><td>1</td><td>2</td><td>3</td><td>3</td><td>3</td><td>3</td><td>0</td><td>0</td><td>0</td><td>1</td><td>67.264792</td><td>740.202687</td><td>39.385078</td></tr><tr><td>&quot;5182659397319460289&quot;</td><td>&quot;Yes&quot;</td><td>&quot;Yes&quot;</td><td>&quot;Yes&quot;</td><td>3</td><td>1</td><td>2</td><td>3</td><td>3</td><td>3</td><td>3</td><td>0</td><td>0</td><td>1</td><td>1</td><td>223.452455</td><td>933.331695</td><td>33.887889</td></tr><tr><td>&quot;5182659397319460289&quot;</td><td>&quot;Yes&quot;</td><td>&quot;Yes&quot;</td><td>&quot;Yes&quot;</td><td>4</td><td>1</td><td>2</td><td>3</td><td>3</td><td>3</td><td>3</td><td>0</td><td>0</td><td>0</td><td>1</td><td>84.965101</td><td>754.340439</td><td>46.630369</td></tr><tr><td>&hellip;</td><td>&hellip;</td><td>&hellip;</td><td>&hellip;</td><td>&hellip;</td><td>&hellip;</td><td>&hellip;</td><td>&hellip;</td><td>&hellip;</td><td>&hellip;</td><td>&hellip;</td><td>&hellip;</td><td>&hellip;</td><td>&hellip;</td><td>&hellip;</td><td>&hellip;</td><td>&hellip;</td><td>&hellip;</td></tr><tr><td>&quot;13150549226139536745&quot;</td><td>&quot;No&quot;</td><td>&quot;No&quot;</td><td>&quot;Yes&quot;</td><td>55</td><td>1</td><td>4</td><td>0</td><td>3</td><td>2</td><td>5</td><td>0</td><td>0</td><td>0</td><td>1</td><td>23.305458</td><td>310.975953</td><td>16.430768</td></tr><tr><td>&quot;13150549226139536745&quot;</td><td>&quot;No&quot;</td><td>&quot;No&quot;</td><td>&quot;Yes&quot;</td><td>56</td><td>1</td><td>4</td><td>0</td><td>3</td><td>2</td><td>5</td><td>0</td><td>0</td><td>1</td><td>1</td><td>62.478231</td><td>280.314656</td><td>15.265358</td></tr><tr><td>&quot;13150549226139536745&quot;</td><td>&quot;No&quot;</td><td>&quot;No&quot;</td><td>&quot;Yes&quot;</td><td>57</td><td>1</td><td>4</td><td>0</td><td>3</td><td>2</td><td>5</td><td>0</td><td>0</td><td>0</td><td>1</td><td>21.632324</td><td>426.414475</td><td>15.988145</td></tr><tr><td>&quot;13150549226139536745&quot;</td><td>&quot;No&quot;</td><td>&quot;No&quot;</td><td>&quot;Yes&quot;</td><td>58</td><td>1</td><td>4</td><td>0</td><td>3</td><td>2</td><td>5</td><td>0</td><td>0</td><td>0</td><td>1</td><td>20.673511</td><td>440.112821</td><td>15.884592</td></tr><tr><td>&quot;13150549226139536745&quot;</td><td>&quot;No&quot;</td><td>&quot;No&quot;</td><td>&quot;Yes&quot;</td><td>59</td><td>1</td><td>4</td><td>0</td><td>3</td><td>2</td><td>5</td><td>0</td><td>0</td><td>0</td><td>1</td><td>21.258759</td><td>441.914382</td><td>15.453941</td></tr></tbody></table></div>"
      ],
      "text/plain": [
       "shape: (11_234_160, 18)\n",
       "┌────────────┬────────────┬───────────┬───────────┬───┬────────┬───────────┬───────────┬───────────┐\n",
       "│ ID         ┆ VL less    ┆ VL less   ┆ CD4 Count ┆ … ┆ Drug_M ┆ VL        ┆ CD4       ┆ RelCD4    │\n",
       "│ ---        ┆ than 250   ┆ than 60   ┆ greater   ┆   ┆ ---    ┆ ---       ┆ ---       ┆ ---       │\n",
       "│ str        ┆ within 6   ┆ within 12 ┆ than 500  ┆   ┆ i64    ┆ f64       ┆ f64       ┆ f64       │\n",
       "│            ┆ mont…      ┆ mont…     ┆ wit…      ┆   ┆        ┆           ┆           ┆           │\n",
       "│            ┆ ---        ┆ ---       ┆ ---       ┆   ┆        ┆           ┆           ┆           │\n",
       "│            ┆ str        ┆ str       ┆ str       ┆   ┆        ┆           ┆           ┆           │\n",
       "╞════════════╪════════════╪═══════════╪═══════════╪═══╪════════╪═══════════╪═══════════╪═══════════╡\n",
       "│ 5182659397 ┆ Yes        ┆ Yes       ┆ Yes       ┆ … ┆ 1      ┆ 203.26554 ┆ 1111.5311 ┆ 25.865305 │\n",
       "│ 319460289  ┆            ┆           ┆           ┆   ┆        ┆           ┆ 61        ┆           │\n",
       "│ 5182659397 ┆ Yes        ┆ Yes       ┆ Yes       ┆ … ┆ 1      ┆ 217.69072 ┆ 787.39078 ┆ 42.567234 │\n",
       "│ 319460289  ┆            ┆           ┆           ┆   ┆        ┆ 7         ┆ 7         ┆           │\n",
       "│ 5182659397 ┆ Yes        ┆ Yes       ┆ Yes       ┆ … ┆ 1      ┆ 67.264792 ┆ 740.20268 ┆ 39.385078 │\n",
       "│ 319460289  ┆            ┆           ┆           ┆   ┆        ┆           ┆ 7         ┆           │\n",
       "│ 5182659397 ┆ Yes        ┆ Yes       ┆ Yes       ┆ … ┆ 1      ┆ 223.45245 ┆ 933.33169 ┆ 33.887889 │\n",
       "│ 319460289  ┆            ┆           ┆           ┆   ┆        ┆ 5         ┆ 5         ┆           │\n",
       "│ 5182659397 ┆ Yes        ┆ Yes       ┆ Yes       ┆ … ┆ 1      ┆ 84.965101 ┆ 754.34043 ┆ 46.630369 │\n",
       "│ 319460289  ┆            ┆           ┆           ┆   ┆        ┆           ┆ 9         ┆           │\n",
       "│ …          ┆ …          ┆ …         ┆ …         ┆ … ┆ …      ┆ …         ┆ …         ┆ …         │\n",
       "│ 1315054922 ┆ No         ┆ No        ┆ Yes       ┆ … ┆ 1      ┆ 23.305458 ┆ 310.97595 ┆ 16.430768 │\n",
       "│ 6139536745 ┆            ┆           ┆           ┆   ┆        ┆           ┆ 3         ┆           │\n",
       "│ 1315054922 ┆ No         ┆ No        ┆ Yes       ┆ … ┆ 1      ┆ 62.478231 ┆ 280.31465 ┆ 15.265358 │\n",
       "│ 6139536745 ┆            ┆           ┆           ┆   ┆        ┆           ┆ 6         ┆           │\n",
       "│ 1315054922 ┆ No         ┆ No        ┆ Yes       ┆ … ┆ 1      ┆ 21.632324 ┆ 426.41447 ┆ 15.988145 │\n",
       "│ 6139536745 ┆            ┆           ┆           ┆   ┆        ┆           ┆ 5         ┆           │\n",
       "│ 1315054922 ┆ No         ┆ No        ┆ Yes       ┆ … ┆ 1      ┆ 20.673511 ┆ 440.11282 ┆ 15.884592 │\n",
       "│ 6139536745 ┆            ┆           ┆           ┆   ┆        ┆           ┆ 1         ┆           │\n",
       "│ 1315054922 ┆ No         ┆ No        ┆ Yes       ┆ … ┆ 1      ┆ 21.258759 ┆ 441.91438 ┆ 15.453941 │\n",
       "│ 6139536745 ┆            ┆           ┆           ┆   ┆        ┆           ┆ 2         ┆           │\n",
       "└────────────┴────────────┴───────────┴───────────┴───┴────────┴───────────┴───────────┴───────────┘"
      ]
     },
     "execution_count": 28,
     "metadata": {},
     "output_type": "execute_result"
    }
   ],
   "source": [
    "joined_df = suppression_data.join(df, on=\"ID\", how=\"left\")\n",
    "joined_df"
   ]
  },
  {
   "cell_type": "code",
   "execution_count": 29,
   "id": "b5fa5090-d292-48c1-b020-9c2451552bba",
   "metadata": {},
   "outputs": [
    {
     "data": {
      "text/html": [
       "<div><style>\n",
       ".dataframe > thead > tr,\n",
       ".dataframe > tbody > tr {\n",
       "  text-align: right;\n",
       "  white-space: pre-wrap;\n",
       "}\n",
       "</style>\n",
       "<small>shape: (11_234_160, 19)</small><table border=\"1\" class=\"dataframe\"><thead><tr><th>ID</th><th>VL less than 250 within 6 months</th><th>VL less than 60 within 12 months</th><th>CD4 Count greater than 500 within 24 months</th><th>Month</th><th>Gender</th><th>Ethnic</th><th>Base_Drug_Combo</th><th>Comp_INI</th><th>Comp_NNRTI</th><th>ExtraPI</th><th>ExtraPk_En</th><th>VL_M</th><th>CD4_M</th><th>Drug_M</th><th>VL</th><th>CD4</th><th>RelCD4</th><th>All Criteria Met</th></tr><tr><td>str</td><td>str</td><td>str</td><td>str</td><td>i64</td><td>i64</td><td>i64</td><td>i64</td><td>i64</td><td>i64</td><td>i64</td><td>i64</td><td>i64</td><td>i64</td><td>i64</td><td>f64</td><td>f64</td><td>f64</td><td>i32</td></tr></thead><tbody><tr><td>&quot;5182659397319460289&quot;</td><td>&quot;Yes&quot;</td><td>&quot;Yes&quot;</td><td>&quot;Yes&quot;</td><td>0</td><td>1</td><td>2</td><td>3</td><td>3</td><td>3</td><td>3</td><td>0</td><td>1</td><td>1</td><td>1</td><td>203.26554</td><td>1111.531161</td><td>25.865305</td><td>1</td></tr><tr><td>&quot;5182659397319460289&quot;</td><td>&quot;Yes&quot;</td><td>&quot;Yes&quot;</td><td>&quot;Yes&quot;</td><td>1</td><td>1</td><td>2</td><td>3</td><td>3</td><td>3</td><td>3</td><td>0</td><td>0</td><td>0</td><td>1</td><td>217.690727</td><td>787.390787</td><td>42.567234</td><td>1</td></tr><tr><td>&quot;5182659397319460289&quot;</td><td>&quot;Yes&quot;</td><td>&quot;Yes&quot;</td><td>&quot;Yes&quot;</td><td>2</td><td>1</td><td>2</td><td>3</td><td>3</td><td>3</td><td>3</td><td>0</td><td>0</td><td>0</td><td>1</td><td>67.264792</td><td>740.202687</td><td>39.385078</td><td>1</td></tr><tr><td>&quot;5182659397319460289&quot;</td><td>&quot;Yes&quot;</td><td>&quot;Yes&quot;</td><td>&quot;Yes&quot;</td><td>3</td><td>1</td><td>2</td><td>3</td><td>3</td><td>3</td><td>3</td><td>0</td><td>0</td><td>1</td><td>1</td><td>223.452455</td><td>933.331695</td><td>33.887889</td><td>1</td></tr><tr><td>&quot;5182659397319460289&quot;</td><td>&quot;Yes&quot;</td><td>&quot;Yes&quot;</td><td>&quot;Yes&quot;</td><td>4</td><td>1</td><td>2</td><td>3</td><td>3</td><td>3</td><td>3</td><td>0</td><td>0</td><td>0</td><td>1</td><td>84.965101</td><td>754.340439</td><td>46.630369</td><td>1</td></tr><tr><td>&hellip;</td><td>&hellip;</td><td>&hellip;</td><td>&hellip;</td><td>&hellip;</td><td>&hellip;</td><td>&hellip;</td><td>&hellip;</td><td>&hellip;</td><td>&hellip;</td><td>&hellip;</td><td>&hellip;</td><td>&hellip;</td><td>&hellip;</td><td>&hellip;</td><td>&hellip;</td><td>&hellip;</td><td>&hellip;</td><td>&hellip;</td></tr><tr><td>&quot;13150549226139536745&quot;</td><td>&quot;No&quot;</td><td>&quot;No&quot;</td><td>&quot;Yes&quot;</td><td>55</td><td>1</td><td>4</td><td>0</td><td>3</td><td>2</td><td>5</td><td>0</td><td>0</td><td>0</td><td>1</td><td>23.305458</td><td>310.975953</td><td>16.430768</td><td>2</td></tr><tr><td>&quot;13150549226139536745&quot;</td><td>&quot;No&quot;</td><td>&quot;No&quot;</td><td>&quot;Yes&quot;</td><td>56</td><td>1</td><td>4</td><td>0</td><td>3</td><td>2</td><td>5</td><td>0</td><td>0</td><td>1</td><td>1</td><td>62.478231</td><td>280.314656</td><td>15.265358</td><td>2</td></tr><tr><td>&quot;13150549226139536745&quot;</td><td>&quot;No&quot;</td><td>&quot;No&quot;</td><td>&quot;Yes&quot;</td><td>57</td><td>1</td><td>4</td><td>0</td><td>3</td><td>2</td><td>5</td><td>0</td><td>0</td><td>0</td><td>1</td><td>21.632324</td><td>426.414475</td><td>15.988145</td><td>2</td></tr><tr><td>&quot;13150549226139536745&quot;</td><td>&quot;No&quot;</td><td>&quot;No&quot;</td><td>&quot;Yes&quot;</td><td>58</td><td>1</td><td>4</td><td>0</td><td>3</td><td>2</td><td>5</td><td>0</td><td>0</td><td>0</td><td>1</td><td>20.673511</td><td>440.112821</td><td>15.884592</td><td>2</td></tr><tr><td>&quot;13150549226139536745&quot;</td><td>&quot;No&quot;</td><td>&quot;No&quot;</td><td>&quot;Yes&quot;</td><td>59</td><td>1</td><td>4</td><td>0</td><td>3</td><td>2</td><td>5</td><td>0</td><td>0</td><td>0</td><td>1</td><td>21.258759</td><td>441.914382</td><td>15.453941</td><td>2</td></tr></tbody></table></div>"
      ],
      "text/plain": [
       "shape: (11_234_160, 19)\n",
       "┌───────────┬───────────┬───────────┬───────────┬───┬───────────┬───────────┬───────────┬──────────┐\n",
       "│ ID        ┆ VL less   ┆ VL less   ┆ CD4 Count ┆ … ┆ VL        ┆ CD4       ┆ RelCD4    ┆ All      │\n",
       "│ ---       ┆ than 250  ┆ than 60   ┆ greater   ┆   ┆ ---       ┆ ---       ┆ ---       ┆ Criteria │\n",
       "│ str       ┆ within 6  ┆ within 12 ┆ than 500  ┆   ┆ f64       ┆ f64       ┆ f64       ┆ Met      │\n",
       "│           ┆ mont…     ┆ mont…     ┆ wit…      ┆   ┆           ┆           ┆           ┆ ---      │\n",
       "│           ┆ ---       ┆ ---       ┆ ---       ┆   ┆           ┆           ┆           ┆ i32      │\n",
       "│           ┆ str       ┆ str       ┆ str       ┆   ┆           ┆           ┆           ┆          │\n",
       "╞═══════════╪═══════════╪═══════════╪═══════════╪═══╪═══════════╪═══════════╪═══════════╪══════════╡\n",
       "│ 518265939 ┆ Yes       ┆ Yes       ┆ Yes       ┆ … ┆ 203.26554 ┆ 1111.5311 ┆ 25.865305 ┆ 1        │\n",
       "│ 731946028 ┆           ┆           ┆           ┆   ┆           ┆ 61        ┆           ┆          │\n",
       "│ 9         ┆           ┆           ┆           ┆   ┆           ┆           ┆           ┆          │\n",
       "│ 518265939 ┆ Yes       ┆ Yes       ┆ Yes       ┆ … ┆ 217.69072 ┆ 787.39078 ┆ 42.567234 ┆ 1        │\n",
       "│ 731946028 ┆           ┆           ┆           ┆   ┆ 7         ┆ 7         ┆           ┆          │\n",
       "│ 9         ┆           ┆           ┆           ┆   ┆           ┆           ┆           ┆          │\n",
       "│ 518265939 ┆ Yes       ┆ Yes       ┆ Yes       ┆ … ┆ 67.264792 ┆ 740.20268 ┆ 39.385078 ┆ 1        │\n",
       "│ 731946028 ┆           ┆           ┆           ┆   ┆           ┆ 7         ┆           ┆          │\n",
       "│ 9         ┆           ┆           ┆           ┆   ┆           ┆           ┆           ┆          │\n",
       "│ 518265939 ┆ Yes       ┆ Yes       ┆ Yes       ┆ … ┆ 223.45245 ┆ 933.33169 ┆ 33.887889 ┆ 1        │\n",
       "│ 731946028 ┆           ┆           ┆           ┆   ┆ 5         ┆ 5         ┆           ┆          │\n",
       "│ 9         ┆           ┆           ┆           ┆   ┆           ┆           ┆           ┆          │\n",
       "│ 518265939 ┆ Yes       ┆ Yes       ┆ Yes       ┆ … ┆ 84.965101 ┆ 754.34043 ┆ 46.630369 ┆ 1        │\n",
       "│ 731946028 ┆           ┆           ┆           ┆   ┆           ┆ 9         ┆           ┆          │\n",
       "│ 9         ┆           ┆           ┆           ┆   ┆           ┆           ┆           ┆          │\n",
       "│ …         ┆ …         ┆ …         ┆ …         ┆ … ┆ …         ┆ …         ┆ …         ┆ …        │\n",
       "│ 131505492 ┆ No        ┆ No        ┆ Yes       ┆ … ┆ 23.305458 ┆ 310.97595 ┆ 16.430768 ┆ 2        │\n",
       "│ 261395367 ┆           ┆           ┆           ┆   ┆           ┆ 3         ┆           ┆          │\n",
       "│ 45        ┆           ┆           ┆           ┆   ┆           ┆           ┆           ┆          │\n",
       "│ 131505492 ┆ No        ┆ No        ┆ Yes       ┆ … ┆ 62.478231 ┆ 280.31465 ┆ 15.265358 ┆ 2        │\n",
       "│ 261395367 ┆           ┆           ┆           ┆   ┆           ┆ 6         ┆           ┆          │\n",
       "│ 45        ┆           ┆           ┆           ┆   ┆           ┆           ┆           ┆          │\n",
       "│ 131505492 ┆ No        ┆ No        ┆ Yes       ┆ … ┆ 21.632324 ┆ 426.41447 ┆ 15.988145 ┆ 2        │\n",
       "│ 261395367 ┆           ┆           ┆           ┆   ┆           ┆ 5         ┆           ┆          │\n",
       "│ 45        ┆           ┆           ┆           ┆   ┆           ┆           ┆           ┆          │\n",
       "│ 131505492 ┆ No        ┆ No        ┆ Yes       ┆ … ┆ 20.673511 ┆ 440.11282 ┆ 15.884592 ┆ 2        │\n",
       "│ 261395367 ┆           ┆           ┆           ┆   ┆           ┆ 1         ┆           ┆          │\n",
       "│ 45        ┆           ┆           ┆           ┆   ┆           ┆           ┆           ┆          │\n",
       "│ 131505492 ┆ No        ┆ No        ┆ Yes       ┆ … ┆ 21.258759 ┆ 441.91438 ┆ 15.453941 ┆ 2        │\n",
       "│ 261395367 ┆           ┆           ┆           ┆   ┆           ┆ 2         ┆           ┆          │\n",
       "│ 45        ┆           ┆           ┆           ┆   ┆           ┆           ┆           ┆          │\n",
       "└───────────┴───────────┴───────────┴───────────┴───┴───────────┴───────────┴───────────┴──────────┘"
      ]
     },
     "execution_count": 29,
     "metadata": {},
     "output_type": "execute_result"
    }
   ],
   "source": [
    "joined_df = joined_df.with_columns(\n",
    "    pl.when(\n",
    "        (pl.col(\"VL less than 250 within 6 months\") == \"Yes\") &\n",
    "        (pl.col(\"VL less than 60 within 12 months\") == \"Yes\") &\n",
    "        (pl.col(\"CD4 Count greater than 500 within 24 months\") == \"Yes\")\n",
    "    )\n",
    "    .then(pl.lit(1))\n",
    "    .otherwise(pl.lit(2))\n",
    "    .alias(\"All Criteria Met\")\n",
    ")\n",
    "\n",
    "joined_df"
   ]
  },
  {
   "cell_type": "code",
   "execution_count": 30,
   "id": "e0f33713-8e3c-49f5-b5e2-bc5cb76555e8",
   "metadata": {},
   "outputs": [],
   "source": [
    "joined_df = joined_df.with_columns(\n",
    "    pl.arange(1, df.height + 1).alias(\"Serial Number\")\n",
    ")"
   ]
  },
  {
   "cell_type": "code",
   "execution_count": null,
   "id": "c27a97d9-351a-4f5b-bc2f-535e3bd5ca1f",
   "metadata": {},
   "outputs": [],
   "source": []
  },
  {
   "cell_type": "code",
   "execution_count": 31,
   "id": "68a7a6ff-e510-4d88-97e0-6986f7c20125",
   "metadata": {},
   "outputs": [
    {
     "data": {
      "text/html": [
       "<div><style>\n",
       ".dataframe > thead > tr,\n",
       ".dataframe > tbody > tr {\n",
       "  text-align: right;\n",
       "  white-space: pre-wrap;\n",
       "}\n",
       "</style>\n",
       "<small>shape: (11_234_160, 8)</small><table border=\"1\" class=\"dataframe\"><thead><tr><th>Ethnic</th><th>Base_Drug_Combo</th><th>Comp_INI</th><th>Comp_NNRTI</th><th>ExtraPI</th><th>ExtraPk_En</th><th>All Criteria Met</th><th>Serial Number</th></tr><tr><td>i64</td><td>i64</td><td>i64</td><td>i64</td><td>i64</td><td>i64</td><td>i32</td><td>i64</td></tr></thead><tbody><tr><td>2</td><td>3</td><td>3</td><td>3</td><td>3</td><td>0</td><td>1</td><td>1</td></tr><tr><td>2</td><td>3</td><td>3</td><td>3</td><td>3</td><td>0</td><td>1</td><td>2</td></tr><tr><td>2</td><td>3</td><td>3</td><td>3</td><td>3</td><td>0</td><td>1</td><td>3</td></tr><tr><td>2</td><td>3</td><td>3</td><td>3</td><td>3</td><td>0</td><td>1</td><td>4</td></tr><tr><td>2</td><td>3</td><td>3</td><td>3</td><td>3</td><td>0</td><td>1</td><td>5</td></tr><tr><td>&hellip;</td><td>&hellip;</td><td>&hellip;</td><td>&hellip;</td><td>&hellip;</td><td>&hellip;</td><td>&hellip;</td><td>&hellip;</td></tr><tr><td>4</td><td>0</td><td>3</td><td>2</td><td>5</td><td>0</td><td>2</td><td>11234156</td></tr><tr><td>4</td><td>0</td><td>3</td><td>2</td><td>5</td><td>0</td><td>2</td><td>11234157</td></tr><tr><td>4</td><td>0</td><td>3</td><td>2</td><td>5</td><td>0</td><td>2</td><td>11234158</td></tr><tr><td>4</td><td>0</td><td>3</td><td>2</td><td>5</td><td>0</td><td>2</td><td>11234159</td></tr><tr><td>4</td><td>0</td><td>3</td><td>2</td><td>5</td><td>0</td><td>2</td><td>11234160</td></tr></tbody></table></div>"
      ],
      "text/plain": [
       "shape: (11_234_160, 8)\n",
       "┌────────┬───────────────┬──────────┬────────────┬─────────┬────────────┬──────────┬───────────────┐\n",
       "│ Ethnic ┆ Base_Drug_Com ┆ Comp_INI ┆ Comp_NNRTI ┆ ExtraPI ┆ ExtraPk_En ┆ All      ┆ Serial Number │\n",
       "│ ---    ┆ bo            ┆ ---      ┆ ---        ┆ ---     ┆ ---        ┆ Criteria ┆ ---           │\n",
       "│ i64    ┆ ---           ┆ i64      ┆ i64        ┆ i64     ┆ i64        ┆ Met      ┆ i64           │\n",
       "│        ┆ i64           ┆          ┆            ┆         ┆            ┆ ---      ┆               │\n",
       "│        ┆               ┆          ┆            ┆         ┆            ┆ i32      ┆               │\n",
       "╞════════╪═══════════════╪══════════╪════════════╪═════════╪════════════╪══════════╪═══════════════╡\n",
       "│ 2      ┆ 3             ┆ 3        ┆ 3          ┆ 3       ┆ 0          ┆ 1        ┆ 1             │\n",
       "│ 2      ┆ 3             ┆ 3        ┆ 3          ┆ 3       ┆ 0          ┆ 1        ┆ 2             │\n",
       "│ 2      ┆ 3             ┆ 3        ┆ 3          ┆ 3       ┆ 0          ┆ 1        ┆ 3             │\n",
       "│ 2      ┆ 3             ┆ 3        ┆ 3          ┆ 3       ┆ 0          ┆ 1        ┆ 4             │\n",
       "│ 2      ┆ 3             ┆ 3        ┆ 3          ┆ 3       ┆ 0          ┆ 1        ┆ 5             │\n",
       "│ …      ┆ …             ┆ …        ┆ …          ┆ …       ┆ …          ┆ …        ┆ …             │\n",
       "│ 4      ┆ 0             ┆ 3        ┆ 2          ┆ 5       ┆ 0          ┆ 2        ┆ 11234156      │\n",
       "│ 4      ┆ 0             ┆ 3        ┆ 2          ┆ 5       ┆ 0          ┆ 2        ┆ 11234157      │\n",
       "│ 4      ┆ 0             ┆ 3        ┆ 2          ┆ 5       ┆ 0          ┆ 2        ┆ 11234158      │\n",
       "│ 4      ┆ 0             ┆ 3        ┆ 2          ┆ 5       ┆ 0          ┆ 2        ┆ 11234159      │\n",
       "│ 4      ┆ 0             ┆ 3        ┆ 2          ┆ 5       ┆ 0          ┆ 2        ┆ 11234160      │\n",
       "└────────┴───────────────┴──────────┴────────────┴─────────┴────────────┴──────────┴───────────────┘"
      ]
     },
     "execution_count": 31,
     "metadata": {},
     "output_type": "execute_result"
    }
   ],
   "source": [
    "\n",
    "joined_df = joined_df.drop('VL less than 250 within 6 months')\n",
    "joined_df = joined_df.drop('VL less than 60 within 12 months')\n",
    "joined_df = joined_df.drop('CD4 Count greater than 500 within 24 months')\n",
    "joined_df = joined_df.drop('VL_M')\n",
    "joined_df = joined_df.drop('CD4_M')\n",
    "joined_df = joined_df.drop('Drug_M') \n",
    "joined_df = joined_df.drop('RelCD4')\n",
    "\n",
    "joined_df = joined_df.drop('ID')\n",
    "joined_df = joined_df.drop('VL')\n",
    "joined_df = joined_df.drop('CD4')\n",
    "joined_df = joined_df.drop('Gender')\n",
    "joined_df = joined_df.drop('Month')\n",
    "\n",
    "joined_df"
   ]
  },
  {
   "cell_type": "code",
   "execution_count": 32,
   "id": "476b4d88-5548-4ab2-afdd-b817c9567bc3",
   "metadata": {},
   "outputs": [
    {
     "name": "stdout",
     "output_type": "stream",
     "text": [
      "(8987328, 8) (2246832, 8)\n"
     ]
    }
   ],
   "source": [
    "\n",
    "train_fraction = 0.8  # 80% train, 20% test\n",
    "\n",
    "# Create the training set\n",
    "train_df = joined_df.sample(fraction=train_fraction, shuffle=True, seed=42)\n",
    "\n",
    "# Create the test set (exclude the train samples)\n",
    "test_df = joined_df.filter(~joined_df[\"Serial Number\"].is_in(train_df[\"Serial Number\"]))\n",
    "\n",
    "# Display results\n",
    "print(train_df.shape, test_df.shape)\n"
   ]
  },
  {
   "cell_type": "code",
   "execution_count": 52,
   "id": "38b6cb31-fe3f-47e2-8240-a666d3892dea",
   "metadata": {},
   "outputs": [],
   "source": [
    "# import polars as pl\n",
    "# import numpy as np\n",
    "# from sklearn.ensemble import RandomForestClassifier\n",
    "# from sklearn.model_selection import train_test_split\n",
    "# from sklearn.preprocessing import LabelEncoder\n",
    "# from sklearn.metrics import accuracy_score\n",
    "\n",
    "# joined_df = joined_df.drop('Serial Number')\n",
    "# label_encoder = LabelEncoder()\n",
    "# y_encoded = label_encoder.fit_transform(train_df[\"All Criteria Met\"].to_numpy())  # Convert to NumPy and encode\n",
    "\n",
    "# # Convert features to NumPy\n",
    "# X = joined_df.drop(\"All Criteria Met\").to_numpy()\n",
    "\n",
    "# # Split into train and test sets\n",
    "# X_train, X_test, y_train, y_test = train_test_split(X, y_encoded, test_size=0.2, random_state=42)\n",
    "\n",
    "# # Initialize and train Random Forest\n",
    "# rf = RandomForestClassifier(n_estimators=100, random_state=42)\n",
    "# rf.fit(X_train, y_train)\n",
    "\n",
    "# # Predictions\n",
    "# y_pred = rf.predict(X_test)\n",
    "\n",
    "# # Decode predictions back to original labels\n",
    "# y_pred_labels = label_encoder.inverse_transform(y_pred)\n",
    "\n",
    "# # Evaluate model\n",
    "# accuracy = accuracy_score(y_test, y_pred)\n",
    "# print(f\"Accuracy: {accuracy:.4f}\")\n",
    "\n"
   ]
  },
  {
   "cell_type": "code",
   "execution_count": 39,
   "id": "42879aa2-6226-464d-ba4b-d4a71d43850c",
   "metadata": {},
   "outputs": [],
   "source": [
    "# Asian 1\n",
    "asian_df = joined_df.filter(pl.col('Ethnic') == 1)\n",
    "train_df_asian = train_df.filter(pl.col(\"Ethnic\") == 1)\n",
    "test_df_asian = test_df.filter(pl.col(\"Ethnic\") == 1)\n",
    "train_df_asian.write_csv(\"train_df_asian.csv\")\n",
    "test_df_asian.write_csv(\"test_df_asian.csv\")\n"
   ]
  },
  {
   "cell_type": "code",
   "execution_count": 40,
   "id": "e7f9440b-9f41-4dd4-a771-76b3b00fc1ef",
   "metadata": {},
   "outputs": [
    {
     "name": "stdout",
     "output_type": "stream",
     "text": [
      "Accuracy: 0.9212\n"
     ]
    }
   ],
   "source": [
    "import polars as pl\n",
    "import numpy as np\n",
    "from sklearn.ensemble import RandomForestClassifier\n",
    "from sklearn.model_selection import train_test_split\n",
    "from sklearn.preprocessing import LabelEncoder\n",
    "from sklearn.metrics import accuracy_score\n",
    "\n",
    "\n",
    "label_encoder = LabelEncoder()\n",
    "y_encoded = label_encoder.fit_transform(asian_df[\"All Criteria Met\"].to_numpy())  # Convert to NumPy and encode\n",
    "\n",
    "# Convert features to NumPy\n",
    "X = asian_df.drop(\"All Criteria Met\").to_numpy()\n",
    "\n",
    "# Split into train and test sets\n",
    "X_train, X_test, y_train, y_test = train_test_split(X, y_encoded, test_size=0.2, random_state=42)\n",
    "\n",
    "# Initialize and train Random Forest\n",
    "rf = RandomForestClassifier(n_estimators=100, random_state=42)\n",
    "rf.fit(X_train, y_train)\n",
    "\n",
    "# Predictions\n",
    "y_pred = rf.predict(X_test)\n",
    "\n",
    "# Decode predictions back to original labels\n",
    "y_pred_labels = label_encoder.inverse_transform(y_pred)\n",
    "\n",
    "# Evaluate model\n",
    "accuracy = accuracy_score(y_test, y_pred)\n",
    "print(f\"Accuracy: {accuracy:.4f}\")\n",
    "\n"
   ]
  },
  {
   "cell_type": "code",
   "execution_count": 41,
   "id": "28002650-f80a-453f-ac8b-ced1c1b1806d",
   "metadata": {},
   "outputs": [
    {
     "data": {
      "image/png": "[encoded data removed]",
      "text/plain": [
       "<Figure size 1000x600 with 1 Axes>"
      ]
     },
     "metadata": {},
     "output_type": "display_data"
    }
   ],
   "source": [
    "import matplotlib.pyplot as plt\n",
    "import numpy as np\n",
    "\n",
    "# Get feature importance from the trained model\n",
    "feature_importances = rf.feature_importances_\n",
    "\n",
    "# Get feature names as a NumPy array\n",
    "feature_names = np.array(asian_df.drop(\"All Criteria Met\").columns)\n",
    "\n",
    "# Sort features by importance\n",
    "sorted_indices = np.argsort(feature_importances)[::-1]  # Sorting indices in descending order\n",
    "sorted_importances = feature_importances[sorted_indices]\n",
    "sorted_features = feature_names[sorted_indices]  # Proper indexing\n",
    "\n",
    "# Plot feature importance\n",
    "plt.figure(figsize=(10, 6))\n",
    "plt.barh(sorted_features, sorted_importances, color='skyblue')\n",
    "plt.xlabel(\"Importance Score\")\n",
    "plt.ylabel(\"Features\")\n",
    "plt.title(\"Feature Importance in Random Forest\")\n",
    "plt.gca().invert_yaxis()  # Invert y-axis to show most important features on top\n",
    "plt.show()\n"
   ]
  },
  {
   "cell_type": "code",
   "execution_count": 42,
   "id": "31b9b213-673f-4ca2-99d3-99f91713c931",
   "metadata": {},
   "outputs": [],
   "source": [
    "black_df = joined_df.filter(pl.col('Ethnic') == 2)\n",
    "train_df_black = train_df.filter(pl.col(\"Ethnic\") == 2)\n",
    "test_df_black = test_df.filter(pl.col(\"Ethnic\") == 2)\n",
    "train_df_black.write_csv(\"train_df_black.csv\")\n",
    "test_df_black.write_csv(\"test_df_black.csv\")"
   ]
  },
  {
   "cell_type": "code",
   "execution_count": 43,
   "id": "363ab71c-1014-478b-9943-f544de0adb8d",
   "metadata": {},
   "outputs": [
    {
     "name": "stdout",
     "output_type": "stream",
     "text": [
      "Accuracy: 0.7592\n"
     ]
    }
   ],
   "source": [
    "import polars as pl\n",
    "import numpy as np\n",
    "from sklearn.ensemble import RandomForestClassifier\n",
    "from sklearn.model_selection import train_test_split\n",
    "from sklearn.preprocessing import LabelEncoder\n",
    "from sklearn.metrics import accuracy_score\n",
    "\n",
    "\n",
    "label_encoder = LabelEncoder()\n",
    "y_encoded = label_encoder.fit_transform(black_df[\"All Criteria Met\"].to_numpy())  # Convert to NumPy and encode\n",
    "\n",
    "# Convert features to NumPy\n",
    "X = black_df.drop(\"All Criteria Met\").to_numpy()\n",
    "\n",
    "# Split into train and test sets\n",
    "X_train, X_test, y_train, y_test = train_test_split(X, y_encoded, test_size=0.2, random_state=42)\n",
    "\n",
    "# Initialize and train Random Forest\n",
    "rf = RandomForestClassifier(n_estimators=100, random_state=42)\n",
    "rf.fit(X_train, y_train)\n",
    "\n",
    "# Predictions\n",
    "y_pred = rf.predict(X_test)\n",
    "\n",
    "# Decode predictions back to original labels\n",
    "y_pred_labels = label_encoder.inverse_transform(y_pred)\n",
    "\n",
    "# Evaluate model\n",
    "accuracy = accuracy_score(y_test, y_pred)\n",
    "print(f\"Accuracy: {accuracy:.4f}\")\n",
    "\n"
   ]
  },
  {
   "cell_type": "code",
   "execution_count": 44,
   "id": "ca22c1ed-3c69-45c2-b8b4-b6bc28d1323b",
   "metadata": {},
   "outputs": [
    {
     "data": {
      "image/png": "[encoded data removed]",
      "text/plain": [
       "<Figure size 1000x600 with 1 Axes>"
      ]
     },
     "metadata": {},
     "output_type": "display_data"
    }
   ],
   "source": [
    "import matplotlib.pyplot as plt\n",
    "import numpy as np\n",
    "\n",
    "# Get feature importance from the trained model\n",
    "feature_importances = rf.feature_importances_\n",
    "\n",
    "# Get feature names as a NumPy array\n",
    "feature_names = np.array(black_df.drop(\"All Criteria Met\").columns)\n",
    "\n",
    "# Sort features by importance\n",
    "sorted_indices = np.argsort(feature_importances)[::-1]  # Sorting indices in descending order\n",
    "sorted_importances = feature_importances[sorted_indices]\n",
    "sorted_features = feature_names[sorted_indices]  # Proper indexing\n",
    "\n",
    "# Plot feature importance\n",
    "plt.figure(figsize=(10, 6))\n",
    "plt.barh(sorted_features, sorted_importances, color='skyblue')\n",
    "plt.xlabel(\"Importance Score\")\n",
    "plt.ylabel(\"Features\")\n",
    "plt.title(\"Feature Importance in Random Forest\")\n",
    "plt.gca().invert_yaxis()  # Invert y-axis to show most important features on top\n",
    "plt.show()\n"
   ]
  },
  {
   "cell_type": "code",
   "execution_count": 45,
   "id": "e7569adc-d667-41a0-80ae-c49e15602729",
   "metadata": {},
   "outputs": [],
   "source": [
    "white_df = joined_df.filter(pl.col(\"Ethnic\") == 3)\n",
    "train_df_white = train_df.filter(pl.col(\"Ethnic\") == 3)\n",
    "test_df_white = test_df.filter(pl.col(\"Ethnic\") == 3)\n",
    "train_df_white.write_csv(\"train_df_white.csv\")\n",
    "test_df_white.write_csv(\"test_df_white.csv\")"
   ]
  },
  {
   "cell_type": "code",
   "execution_count": 46,
   "id": "e4ecec96-1476-4dd4-b518-6261986ddb7e",
   "metadata": {},
   "outputs": [
    {
     "name": "stdout",
     "output_type": "stream",
     "text": [
      "Accuracy: 0.7000\n"
     ]
    }
   ],
   "source": [
    "import polars as pl\n",
    "import numpy as np\n",
    "from sklearn.ensemble import RandomForestClassifier\n",
    "from sklearn.model_selection import train_test_split\n",
    "from sklearn.preprocessing import LabelEncoder\n",
    "from sklearn.metrics import accuracy_score\n",
    "\n",
    "white_df = white_df.drop('Ethnic')\n",
    "\n",
    "label_encoder = LabelEncoder()\n",
    "y_encoded = label_encoder.fit_transform(white_df[\"All Criteria Met\"].to_numpy())  # Convert to NumPy and encode\n",
    "\n",
    "# Convert features to NumPy\n",
    "X = white_df.drop(\"All Criteria Met\").to_numpy()\n",
    "\n",
    "# Split into train and test sets\n",
    "X_train, X_test, y_train, y_test = train_test_split(X, y_encoded, test_size=0.2, random_state=42)\n",
    "\n",
    "# Initialize and train Random Forest\n",
    "rf = RandomForestClassifier(n_estimators=100, random_state=42)\n",
    "rf.fit(X_train, y_train)\n",
    "\n",
    "# Predictions\n",
    "y_pred = rf.predict(X_test)\n",
    "\n",
    "# Decode predictions back to original labels\n",
    "y_pred_labels = label_encoder.inverse_transform(y_pred)\n",
    "\n",
    "# Evaluate model\n",
    "accuracy = accuracy_score(y_test, y_pred)\n",
    "print(f\"Accuracy: {accuracy:.4f}\")\n",
    "\n"
   ]
  },
  {
   "cell_type": "code",
   "execution_count": 47,
   "id": "b4484862-1bdb-43b9-94a6-7868138b9a75",
   "metadata": {},
   "outputs": [
    {
     "data": {
      "image/png": "[encoded data removed]",
      "text/plain": [
       "<Figure size 1000x600 with 1 Axes>"
      ]
     },
     "metadata": {},
     "output_type": "display_data"
    }
   ],
   "source": [
    "import matplotlib.pyplot as plt\n",
    "import numpy as np\n",
    "\n",
    "# Get feature importance from the trained model\n",
    "feature_importances = rf.feature_importances_\n",
    "\n",
    "# Get feature names as a NumPy array\n",
    "feature_names = np.array(white_df.drop(\"All Criteria Met\").columns)\n",
    "\n",
    "# Sort features by importance\n",
    "sorted_indices = np.argsort(feature_importances)[::-1]  # Sorting indices in descending order\n",
    "sorted_importances = feature_importances[sorted_indices]\n",
    "sorted_features = feature_names[sorted_indices]  # Proper indexing\n",
    "\n",
    "# Plot feature importance\n",
    "plt.figure(figsize=(10, 6))\n",
    "plt.barh(sorted_features, sorted_importances, color='skyblue')\n",
    "plt.xlabel(\"Importance Score\")\n",
    "plt.ylabel(\"Features\")\n",
    "plt.title(\"Feature Importance in Random Forest\")\n",
    "plt.gca().invert_yaxis()  # Invert y-axis to show most important features on top\n",
    "plt.show()\n"
   ]
  },
  {
   "cell_type": "code",
   "execution_count": 48,
   "id": "2775297a-381b-4dd4-92ef-5a85a5379b65",
   "metadata": {},
   "outputs": [],
   "source": [
    "other_df = joined_df.filter(pl.col(\"Ethnic\") == 4)\n",
    "train_df_other = train_df.filter(pl.col(\"Ethnic\") == 4)\n",
    "test_df_other = test_df.filter(pl.col(\"Ethnic\") == 4)\n",
    "train_df_other.write_csv(\"train_df_other.csv\")\n",
    "test_df_other.write_csv(\"test_df_other.csv\")"
   ]
  },
  {
   "cell_type": "code",
   "execution_count": 49,
   "id": "3a233a37-419e-4cae-8103-a577009b6098",
   "metadata": {},
   "outputs": [
    {
     "name": "stdout",
     "output_type": "stream",
     "text": [
      "Accuracy: 0.8179\n"
     ]
    }
   ],
   "source": [
    "import polars as pl\n",
    "import numpy as np\n",
    "from sklearn.ensemble import RandomForestClassifier\n",
    "from sklearn.model_selection import train_test_split\n",
    "from sklearn.preprocessing import LabelEncoder\n",
    "from sklearn.metrics import accuracy_score\n",
    "\n",
    "\n",
    "label_encoder = LabelEncoder()\n",
    "y_encoded = label_encoder.fit_transform(other_df[\"All Criteria Met\"].to_numpy())  # Convert to NumPy and encode\n",
    "\n",
    "# Convert features to NumPy\n",
    "X = other_df.drop(\"All Criteria Met\").to_numpy()\n",
    "\n",
    "# Split into train and test sets\n",
    "X_train, X_test, y_train, y_test = train_test_split(X, y_encoded, test_size=0.2, random_state=42)\n",
    "\n",
    "# Initialize and train Random Forest\n",
    "rf = RandomForestClassifier(n_estimators=100, random_state=42)\n",
    "rf.fit(X_train, y_train)\n",
    "\n",
    "# Predictions\n",
    "y_pred = rf.predict(X_test)\n",
    "\n",
    "# Decode predictions back to original labels\n",
    "y_pred_labels = label_encoder.inverse_transform(y_pred)\n",
    "\n",
    "# Evaluate model\n",
    "accuracy = accuracy_score(y_test, y_pred)\n",
    "print(f\"Accuracy: {accuracy:.4f}\")\n",
    "\n"
   ]
  },
  {
   "cell_type": "code",
   "execution_count": 50,
   "id": "ac9078dc-2cf4-4b91-aff8-6b165989b3e7",
   "metadata": {},
   "outputs": [
    {
     "data": {
      "image/png": "[encoded data removed]",
      "text/plain": [
       "<Figure size 1000x600 with 1 Axes>"
      ]
     },
     "metadata": {},
     "output_type": "display_data"
    }
   ],
   "source": [
    "import matplotlib.pyplot as plt\n",
    "import numpy as np\n",
    "\n",
    "# Get feature importance from the trained model\n",
    "feature_importances = rf.feature_importances_\n",
    "\n",
    "# Get feature names as a NumPy array\n",
    "feature_names = np.array(other_df.drop(\"All Criteria Met\").columns)\n",
    "\n",
    "# Sort features by importance\n",
    "sorted_indices = np.argsort(feature_importances)[::-1]  # Sorting indices in descending order\n",
    "sorted_importances = feature_importances[sorted_indices]\n",
    "sorted_features = feature_names[sorted_indices]  # Proper indexing\n",
    "\n",
    "# Plot feature importance\n",
    "plt.figure(figsize=(10, 6))\n",
    "plt.barh(sorted_features, sorted_importances, color='skyblue')\n",
    "plt.xlabel(\"Importance Score\")\n",
    "plt.ylabel(\"Features\")\n",
    "plt.title(\"Feature Importance in Random Forest\")\n",
    "plt.gca().invert_yaxis()  # Invert y-axis to show most important features on top\n",
    "plt.show()\n"
   ]
  },
  {
   "cell_type": "code",
   "execution_count": 1,
   "id": "9a96223c-f14c-4228-abb4-f85ebc0187e8",
   "metadata": {},
   "outputs": [
    {
     "ename": "NameError",
     "evalue": "name 'joined_df' is not defined",
     "output_type": "error",
     "traceback": [
      "\u001b[0;31m---------------------------------------------------------------------------\u001b[0m",
      "\u001b[0;31mNameError\u001b[0m                                 Traceback (most recent call last)",
      "Cell \u001b[0;32mIn[1], line 5\u001b[0m\n\u001b[1;32m      1\u001b[0m \u001b[38;5;28;01mimport\u001b[39;00m \u001b[38;5;21;01mnumpy\u001b[39;00m \u001b[38;5;28;01mas\u001b[39;00m \u001b[38;5;21;01mnp\u001b[39;00m\n\u001b[1;32m      3\u001b[0m \u001b[38;5;66;03m# Define features (X) and target (y)\u001b[39;00m\n\u001b[0;32m----> 5\u001b[0m joined_df_pd \u001b[38;5;241m=\u001b[39m joined_df\u001b[38;5;241m.\u001b[39mtoPandas()  \n\u001b[1;32m      7\u001b[0m \u001b[38;5;66;03m# Select categorical columns\u001b[39;00m\n\u001b[1;32m      8\u001b[0m categorical_cols \u001b[38;5;241m=\u001b[39m [\u001b[38;5;124m\"\u001b[39m\u001b[38;5;124mBase_Drug_Combo\u001b[39m\u001b[38;5;124m\"\u001b[39m, \u001b[38;5;124m\"\u001b[39m\u001b[38;5;124mComp_INI\u001b[39m\u001b[38;5;124m\"\u001b[39m, \u001b[38;5;124m\"\u001b[39m\u001b[38;5;124mComp_NNRTI\u001b[39m\u001b[38;5;124m\"\u001b[39m, \u001b[38;5;124m\"\u001b[39m\u001b[38;5;124mExtraPI\u001b[39m\u001b[38;5;124m\"\u001b[39m, \u001b[38;5;124m\"\u001b[39m\u001b[38;5;124mExtraPk_En\u001b[39m\u001b[38;5;124m\"\u001b[39m]\n",
      "\u001b[0;31mNameError\u001b[0m: name 'joined_df' is not defined"
     ]
    }
   ],
   "source": [
    "import numpy as np\n",
    "\n",
    "# Define features (X) and target (y)\n",
    "\n",
    "joined_df_pd = joined_df.toPandas()  \n",
    "\n",
    "# Select categorical columns\n",
    "categorical_cols = [\"Base_Drug_Combo\", \"Comp_INI\", \"Comp_NNRTI\", \"ExtraPI\", \"ExtraPk_En\"]\n",
    "\n",
    "# Initialize OneHotEncoder\n",
    "encoder = OneHotEncoder(sparse_output=False, handle_unknown=\"ignore\")\n",
    "\n",
    "# Fit-transform the categorical data\n",
    "X_encoded = encoder.fit_transform(joined_df_pd[categorical_cols])\n",
    "\n",
    "# Convert to NumPy array\n",
    "X = X_encoded\n",
    "#X = joined_df.select([\"Base_Drug_Combo\", \"Comp_INI\", \"Comp_NNRTI\", \"ExtraPI\", \"ExtraPk_En\"]).to_numpy()\n",
    "y = joined_df.select(\"All Criteria Met\").to_numpy().flatten()  # Convert to 1D array\n"
   ]
  },
  {
   "cell_type": "code",
   "execution_count": 53,
   "id": "3b852f56-12b3-4b2d-afef-ae5c505dc526",
   "metadata": {},
   "outputs": [
    {
     "name": "stdout",
     "output_type": "stream",
     "text": [
      "Accuracy: 0.6986\n"
     ]
    }
   ],
   "source": [
    "from sklearn.linear_model import LogisticRegression\n",
    "\n",
    "# Create and train model\n",
    "model = LogisticRegression()\n",
    "model.fit(X, y)\n",
    "\n",
    "# Make predictions\n",
    "predictions = model.predict(X)\n",
    "\n",
    "# Model accuracy\n",
    "accuracy = model.score(X, y)\n",
    "print(f\"Accuracy: {accuracy:.4f}\")\n"
   ]
  },
  {
   "cell_type": "code",
   "execution_count": 54,
   "id": "862ca955-a23d-4912-8188-998253805852",
   "metadata": {},
   "outputs": [
    {
     "name": "stdout",
     "output_type": "stream",
     "text": [
      "Sensitivity: 0.2677\n"
     ]
    }
   ],
   "source": [
    "from sklearn.metrics import recall_score\n",
    "sensitivity = recall_score(y, predictions)\n",
    "print(f\"Sensitivity: {sensitivity:.4f}\")\n"
   ]
  },
  {
   "cell_type": "code",
   "execution_count": 56,
   "id": "d6145aac-3c23-4065-9a6b-8850b71d210b",
   "metadata": {},
   "outputs": [],
   "source": [
    "# # Create a dictionary mapping features to coefficients\n",
    "# feature_coefficients = dict(zip(feature_names, coefficients))\n",
    "\n",
    "# # Print the coefficients for each feature\n",
    "# for feature, coef in feature_coefficients.items():\n",
    "#     print(f\"{feature}: {coef}\")\n"
   ]
  },
  {
   "cell_type": "code",
   "execution_count": 60,
   "id": "c198f8a9-37c7-40c8-82cf-54b488aa4901",
   "metadata": {},
   "outputs": [],
   "source": [
    "# # Creating the dataset from the provided data\n",
    "# data = {\n",
    "#     \"Patient_Count\": [\n",
    "#         68523, 51366, 48237, 36645, 26628, 24906, 19677, 17703, 15477, \n",
    "#         15057, 12096, 12012, 8757, 8652, 7098, 7035, 6615, 6594, 6468, 6300\n",
    "#     ],\n",
    "#     \"Suppression_Category\": [\n",
    "#         \"Moderate Suppression\", \"Moderate Suppression\", \"Moderate Suppression\", \n",
    "#         \"Moderate Suppression\", \"Moderate Suppression\", \"Slow Suppression\", \n",
    "#         \"Fast Suppression\", \"Moderate Suppression\", \"Moderate Suppression\", \n",
    "#         \"Moderate Suppression\", \"Moderate Suppression\", \"Slow Suppression\", \n",
    "#         \"Moderate Suppression\", \"Moderate Suppression\", \"Moderate Suppression\", \n",
    "#         \"Moderate Suppression\", \"Moderate Suppression\", \"Fast Suppression\", \n",
    "#         \"Fast Suppression\", \"Fast Suppression\"\n",
    "#     ]\n",
    "# }\n",
    "\n",
    "# # Creating a DataFrame\n",
    "# df = pd.DataFrame(data)\n",
    "\n",
    "# # Grouping the data by Suppression_Category and summing the patient counts\n",
    "# grouped_data = df.groupby(\"Suppression_Category\")[\"Patient_Count\"].sum().reset_index()\n",
    "\n",
    "\n"
   ]
  },
  {
   "cell_type": "code",
   "execution_count": 3,
   "id": "c244f665-0342-4679-9a92-124b17abfeca",
   "metadata": {},
   "outputs": [
    {
     "name": "stdout",
     "output_type": "stream",
     "text": [
      "                                                        2024-12-31  \\\n",
      "Treasury Shares Number                                         NaN   \n",
      "Ordinary Shares Number                                2534487662.0   \n",
      "Share Issued                                          2534487662.0   \n",
      "Total Debt                                           49060000000.0   \n",
      "Tangible Book Value                                 161068000000.0   \n",
      "Invested Capital                                    211463000000.0   \n",
      "Working Capital                                      66449000000.0   \n",
      "Net Tangible Assets                                 161068000000.0   \n",
      "Capital Lease Obligations                            20234000000.0   \n",
      "Common Stock Equity                                 182637000000.0   \n",
      "Total Capitalization                                211463000000.0   \n",
      "Total Equity Gross Minority Interest                182637000000.0   \n",
      "Stockholders Equity                                 182637000000.0   \n",
      "Gains Losses Not Affecting Retained Earnings         -3097000000.0   \n",
      "Other Equity Adjustments                             -3097000000.0   \n",
      "Retained Earnings                                   102506000000.0   \n",
      "Additional Paid In Capital                           83228000000.0   \n",
      "Capital Stock                                                  0.0   \n",
      "Common Stock                                                   0.0   \n",
      "Total Liabilities Net Minority Interest              93417000000.0   \n",
      "Total Non Current Liabilities Net Minority Inte...   59821000000.0   \n",
      "Other Non Current Liabilities                         2716000000.0   \n",
      "Tradeand Other Payables Non Current                   9987000000.0   \n",
      "Long Term Debt And Capital Lease Obligation          47118000000.0   \n",
      "Long Term Capital Lease Obligation                   18292000000.0   \n",
      "Long Term Debt                                       28826000000.0   \n",
      "Current Liabilities                                  33596000000.0   \n",
      "Other Current Liabilities                             6074000000.0   \n",
      "Current Deferred Liabilities                                   NaN   \n",
      "Current Deferred Revenue                                       NaN   \n",
      "Current Debt And Capital Lease Obligation             1942000000.0   \n",
      "Current Capital Lease Obligation                      1942000000.0   \n",
      "Pensionand Other Post Retirement Benefit Plans ...    6350000000.0   \n",
      "Payables And Accrued Expenses                        19230000000.0   \n",
      "Current Accrued Expenses                              8105000000.0   \n",
      "Payables                                             11125000000.0   \n",
      "Other Payable                                                  NaN   \n",
      "Dueto Related Parties Current                                  NaN   \n",
      "Total Tax Payable                                     3438000000.0   \n",
      "Accounts Payable                                      7687000000.0   \n",
      "Total Assets                                        276054000000.0   \n",
      "Total Non Current Assets                            176009000000.0   \n",
      "Other Non Current Assets                             12102000000.0   \n",
      "Investments And Advances                              6070000000.0   \n",
      "Investmentin Financial Assets                         6070000000.0   \n",
      "Available For Sale Securities                         6070000000.0   \n",
      "Long Term Equity Investment                                    NaN   \n",
      "Goodwill And Other Intangible Assets                 21569000000.0   \n",
      "Other Intangible Assets                                915000000.0   \n",
      "Goodwill                                             20654000000.0   \n",
      "Net PPE                                             136268000000.0   \n",
      "Accumulated Depreciation                            -43317000000.0   \n",
      "Gross PPE                                           179585000000.0   \n",
      "Leases                                                7293000000.0   \n",
      "Construction In Progress                             26802000000.0   \n",
      "Other Properties                                     95853000000.0   \n",
      "Machinery Furniture Equipment                                  NaN   \n",
      "Buildings And Improvements                           47076000000.0   \n",
      "Land And Improvements                                 2561000000.0   \n",
      "Properties                                                     0.0   \n",
      "Current Assets                                      100045000000.0   \n",
      "Other Current Assets                                  5236000000.0   \n",
      "Prepaid Assets                                                 NaN   \n",
      "Receivables                                          16994000000.0   \n",
      "Accounts Receivable                                  16994000000.0   \n",
      "Allowance For Doubtful Accounts Receivable                     NaN   \n",
      "Gross Accounts Receivable                                      NaN   \n",
      "Cash Cash Equivalents And Short Term Investments     77815000000.0   \n",
      "Other Short Term Investments                         33926000000.0   \n",
      "Cash And Cash Equivalents                            43889000000.0   \n",
      "Cash Equivalents                                     36671000000.0   \n",
      "Cash Financial                                        7218000000.0   \n",
      "\n",
      "                                                        2023-12-31  \\\n",
      "Treasury Shares Number                                         0.0   \n",
      "Ordinary Shares Number                                2561000000.0   \n",
      "Share Issued                                          2561000000.0   \n",
      "Total Debt                                           37234000000.0   \n",
      "Tangible Book Value                                 131726000000.0   \n",
      "Invested Capital                                    171553000000.0   \n",
      "Working Capital                                      53405000000.0   \n",
      "Net Tangible Assets                                 131726000000.0   \n",
      "Capital Lease Obligations                            18849000000.0   \n",
      "Common Stock Equity                                 153168000000.0   \n",
      "Total Capitalization                                171553000000.0   \n",
      "Total Equity Gross Minority Interest                153168000000.0   \n",
      "Stockholders Equity                                 153168000000.0   \n",
      "Gains Losses Not Affecting Retained Earnings         -2155000000.0   \n",
      "Other Equity Adjustments                             -2155000000.0   \n",
      "Retained Earnings                                    82070000000.0   \n",
      "Additional Paid In Capital                           73253000000.0   \n",
      "Capital Stock                                                  0.0   \n",
      "Common Stock                                                   0.0   \n",
      "Total Liabilities Net Minority Interest              76455000000.0   \n",
      "Total Non Current Liabilities Net Minority Inte...   44495000000.0   \n",
      "Other Non Current Liabilities                         1370000000.0   \n",
      "Tradeand Other Payables Non Current                   7514000000.0   \n",
      "Long Term Debt And Capital Lease Obligation          35611000000.0   \n",
      "Long Term Capital Lease Obligation                   17226000000.0   \n",
      "Long Term Debt                                       18385000000.0   \n",
      "Current Liabilities                                  31960000000.0   \n",
      "Other Current Liabilities                             6369000000.0   \n",
      "Current Deferred Liabilities                                   NaN   \n",
      "Current Deferred Revenue                                       NaN   \n",
      "Current Debt And Capital Lease Obligation             1623000000.0   \n",
      "Current Capital Lease Obligation                      1623000000.0   \n",
      "Pensionand Other Post Retirement Benefit Plans ...    6659000000.0   \n",
      "Payables And Accrued Expenses                        17309000000.0   \n",
      "Current Accrued Expenses                              8805000000.0   \n",
      "Payables                                              8504000000.0   \n",
      "Other Payable                                                  NaN   \n",
      "Dueto Related Parties Current                          863000000.0   \n",
      "Total Tax Payable                                     3655000000.0   \n",
      "Accounts Payable                                      4849000000.0   \n",
      "Total Assets                                        229623000000.0   \n",
      "Total Non Current Assets                            144258000000.0   \n",
      "Other Non Current Assets                              6794000000.0   \n",
      "Investments And Advances                              6141000000.0   \n",
      "Investmentin Financial Assets                         6141000000.0   \n",
      "Available For Sale Securities                         6141000000.0   \n",
      "Long Term Equity Investment                                    NaN   \n",
      "Goodwill And Other Intangible Assets                 21442000000.0   \n",
      "Other Intangible Assets                                788000000.0   \n",
      "Goodwill                                             20654000000.0   \n",
      "Net PPE                                             109881000000.0   \n",
      "Accumulated Depreciation                            -33134000000.0   \n",
      "Gross PPE                                           143015000000.0   \n",
      "Leases                                                6972000000.0   \n",
      "Construction In Progress                             24269000000.0   \n",
      "Other Properties                                     71733000000.0   \n",
      "Machinery Furniture Equipment                                  NaN   \n",
      "Buildings And Improvements                           37961000000.0   \n",
      "Land And Improvements                                 2080000000.0   \n",
      "Properties                                                     0.0   \n",
      "Current Assets                                       85365000000.0   \n",
      "Other Current Assets                                  3793000000.0   \n",
      "Prepaid Assets                                                 NaN   \n",
      "Receivables                                          16169000000.0   \n",
      "Accounts Receivable                                  16169000000.0   \n",
      "Allowance For Doubtful Accounts Receivable                     NaN   \n",
      "Gross Accounts Receivable                                      NaN   \n",
      "Cash Cash Equivalents And Short Term Investments     65403000000.0   \n",
      "Other Short Term Investments                         23541000000.0   \n",
      "Cash And Cash Equivalents                            41862000000.0   \n",
      "Cash Equivalents                                     35597000000.0   \n",
      "Cash Financial                                        6265000000.0   \n",
      "\n",
      "                                                        2022-12-31  \\\n",
      "Treasury Shares Number                                         NaN   \n",
      "Ordinary Shares Number                                2614000000.0   \n",
      "Share Issued                                          2614000000.0   \n",
      "Total Debt                                           26591000000.0   \n",
      "Tangible Book Value                                 104510000000.0   \n",
      "Invested Capital                                    135636000000.0   \n",
      "Working Capital                                      32523000000.0   \n",
      "Net Tangible Assets                                 104510000000.0   \n",
      "Capital Lease Obligations                            16668000000.0   \n",
      "Common Stock Equity                                 125713000000.0   \n",
      "Total Capitalization                                135636000000.0   \n",
      "Total Equity Gross Minority Interest                125713000000.0   \n",
      "Stockholders Equity                                 125713000000.0   \n",
      "Gains Losses Not Affecting Retained Earnings         -3530000000.0   \n",
      "Other Equity Adjustments                             -3530000000.0   \n",
      "Retained Earnings                                    64799000000.0   \n",
      "Additional Paid In Capital                           64444000000.0   \n",
      "Capital Stock                                                  0.0   \n",
      "Common Stock                                                   0.0   \n",
      "Total Liabilities Net Minority Interest              60014000000.0   \n",
      "Total Non Current Liabilities Net Minority Inte...   32988000000.0   \n",
      "Other Non Current Liabilities                         1119000000.0   \n",
      "Tradeand Other Payables Non Current                   6645000000.0   \n",
      "Long Term Debt And Capital Lease Obligation          25224000000.0   \n",
      "Long Term Capital Lease Obligation                   15301000000.0   \n",
      "Long Term Debt                                        9923000000.0   \n",
      "Current Liabilities                                  27026000000.0   \n",
      "Other Current Liabilities                             4906000000.0   \n",
      "Current Deferred Liabilities                                   NaN   \n",
      "Current Deferred Revenue                                       NaN   \n",
      "Current Debt And Capital Lease Obligation             1367000000.0   \n",
      "Current Capital Lease Obligation                      1367000000.0   \n",
      "Pensionand Other Post Retirement Benefit Plans ...    4591000000.0   \n",
      "Payables And Accrued Expenses                        16162000000.0   \n",
      "Current Accrued Expenses                              7716000000.0   \n",
      "Payables                                              8446000000.0   \n",
      "Other Payable                                                  NaN   \n",
      "Dueto Related Parties Current                         1117000000.0   \n",
      "Total Tax Payable                                     2339000000.0   \n",
      "Accounts Payable                                      4990000000.0   \n",
      "Total Assets                                        185727000000.0   \n",
      "Total Non Current Assets                            126178000000.0   \n",
      "Other Non Current Assets                              6583000000.0   \n",
      "Investments And Advances                              6201000000.0   \n",
      "Investmentin Financial Assets                         6201000000.0   \n",
      "Available For Sale Securities                         6201000000.0   \n",
      "Long Term Equity Investment                                    NaN   \n",
      "Goodwill And Other Intangible Assets                 21203000000.0   \n",
      "Other Intangible Assets                                897000000.0   \n",
      "Goodwill                                             20306000000.0   \n",
      "Net PPE                                              92191000000.0   \n",
      "Accumulated Depreciation                            -24975000000.0   \n",
      "Gross PPE                                           117166000000.0   \n",
      "Leases                                                6522000000.0   \n",
      "Construction In Progress                             25052000000.0   \n",
      "Other Properties                                     55998000000.0   \n",
      "Machinery Furniture Equipment                                  NaN   \n",
      "Buildings And Improvements                           27720000000.0   \n",
      "Land And Improvements                                 1874000000.0   \n",
      "Properties                                                     0.0   \n",
      "Current Assets                                       59549000000.0   \n",
      "Other Current Assets                                  5345000000.0   \n",
      "Prepaid Assets                                                 NaN   \n",
      "Receivables                                          13466000000.0   \n",
      "Accounts Receivable                                  13466000000.0   \n",
      "Allowance For Doubtful Accounts Receivable                     NaN   \n",
      "Gross Accounts Receivable                                      NaN   \n",
      "Cash Cash Equivalents And Short Term Investments     40738000000.0   \n",
      "Other Short Term Investments                         26057000000.0   \n",
      "Cash And Cash Equivalents                            14681000000.0   \n",
      "Cash Equivalents                                      8505000000.0   \n",
      "Cash Financial                                        6176000000.0   \n",
      "\n",
      "                                                        2021-12-31  \\\n",
      "Treasury Shares Number                                         NaN   \n",
      "Ordinary Shares Number                                2741000000.0   \n",
      "Share Issued                                          2741000000.0   \n",
      "Total Debt                                           13873000000.0   \n",
      "Tangible Book Value                                 105048000000.0   \n",
      "Invested Capital                                    124879000000.0   \n",
      "Working Capital                                      45531000000.0   \n",
      "Net Tangible Assets                                 105048000000.0   \n",
      "Capital Lease Obligations                            13873000000.0   \n",
      "Common Stock Equity                                 124879000000.0   \n",
      "Total Capitalization                                124879000000.0   \n",
      "Total Equity Gross Minority Interest                124879000000.0   \n",
      "Stockholders Equity                                 124879000000.0   \n",
      "Gains Losses Not Affecting Retained Earnings          -693000000.0   \n",
      "Other Equity Adjustments                              -693000000.0   \n",
      "Retained Earnings                                    69761000000.0   \n",
      "Additional Paid In Capital                           55811000000.0   \n",
      "Capital Stock                                                  0.0   \n",
      "Common Stock                                                   0.0   \n",
      "Total Liabilities Net Minority Interest              41108000000.0   \n",
      "Total Non Current Liabilities Net Minority Inte...   19973000000.0   \n",
      "Other Non Current Liabilities                         1289000000.0   \n",
      "Tradeand Other Payables Non Current                   5938000000.0   \n",
      "Long Term Debt And Capital Lease Obligation          12746000000.0   \n",
      "Long Term Capital Lease Obligation                   12746000000.0   \n",
      "Long Term Debt                                                 NaN   \n",
      "Current Liabilities                                  21135000000.0   \n",
      "Other Current Liabilities                             5819000000.0   \n",
      "Current Deferred Liabilities                           561000000.0   \n",
      "Current Deferred Revenue                               561000000.0   \n",
      "Current Debt And Capital Lease Obligation             1127000000.0   \n",
      "Current Capital Lease Obligation                      1127000000.0   \n",
      "Pensionand Other Post Retirement Benefit Plans ...    3152000000.0   \n",
      "Payables And Accrued Expenses                        11037000000.0   \n",
      "Current Accrued Expenses                              4646000000.0   \n",
      "Payables                                              6391000000.0   \n",
      "Other Payable                                         1052000000.0   \n",
      "Dueto Related Parties Current                         1052000000.0   \n",
      "Total Tax Payable                                     1256000000.0   \n",
      "Accounts Payable                                      4083000000.0   \n",
      "Total Assets                                        165987000000.0   \n",
      "Total Non Current Assets                             99321000000.0   \n",
      "Other Non Current Assets                              2751000000.0   \n",
      "Investments And Advances                              6775000000.0   \n",
      "Investmentin Financial Assets                         6775000000.0   \n",
      "Available For Sale Securities                         6775000000.0   \n",
      "Long Term Equity Investment                           6775000000.0   \n",
      "Goodwill And Other Intangible Assets                 19831000000.0   \n",
      "Other Intangible Assets                                634000000.0   \n",
      "Goodwill                                             19197000000.0   \n",
      "Net PPE                                              69964000000.0   \n",
      "Accumulated Depreciation                            -20080000000.0   \n",
      "Gross PPE                                            90044000000.0   \n",
      "Leases                                                5795000000.0   \n",
      "Construction In Progress                             14687000000.0   \n",
      "Other Properties                                     45343000000.0   \n",
      "Machinery Furniture Equipment                        25584000000.0   \n",
      "Buildings And Improvements                           22531000000.0   \n",
      "Land And Improvements                                 1688000000.0   \n",
      "Properties                                                     0.0   \n",
      "Current Assets                                       66666000000.0   \n",
      "Other Current Assets                                  4629000000.0   \n",
      "Prepaid Assets                                        4629000000.0   \n",
      "Receivables                                          14039000000.0   \n",
      "Accounts Receivable                                  14039000000.0   \n",
      "Allowance For Doubtful Accounts Receivable                     NaN   \n",
      "Gross Accounts Receivable                                      NaN   \n",
      "Cash Cash Equivalents And Short Term Investments     47998000000.0   \n",
      "Other Short Term Investments                         31397000000.0   \n",
      "Cash And Cash Equivalents                            16601000000.0   \n",
      "Cash Equivalents                                      9293000000.0   \n",
      "Cash Financial                                        7308000000.0   \n",
      "\n",
      "                                                       2020-12-31  \n",
      "Treasury Shares Number                                        NaN  \n",
      "Ordinary Shares Number                                        NaN  \n",
      "Share Issued                                                  NaN  \n",
      "Total Debt                                                    NaN  \n",
      "Tangible Book Value                                           NaN  \n",
      "Invested Capital                                              NaN  \n",
      "Working Capital                                               NaN  \n",
      "Net Tangible Assets                                           NaN  \n",
      "Capital Lease Obligations                                     NaN  \n",
      "Common Stock Equity                                           NaN  \n",
      "Total Capitalization                                          NaN  \n",
      "Total Equity Gross Minority Interest                          NaN  \n",
      "Stockholders Equity                                           NaN  \n",
      "Gains Losses Not Affecting Retained Earnings                  NaN  \n",
      "Other Equity Adjustments                                      NaN  \n",
      "Retained Earnings                                             NaN  \n",
      "Additional Paid In Capital                                    NaN  \n",
      "Capital Stock                                                 NaN  \n",
      "Common Stock                                                  NaN  \n",
      "Total Liabilities Net Minority Interest                       NaN  \n",
      "Total Non Current Liabilities Net Minority Inte...            NaN  \n",
      "Other Non Current Liabilities                                 NaN  \n",
      "Tradeand Other Payables Non Current                           NaN  \n",
      "Long Term Debt And Capital Lease Obligation                   NaN  \n",
      "Long Term Capital Lease Obligation                            NaN  \n",
      "Long Term Debt                                                NaN  \n",
      "Current Liabilities                                           NaN  \n",
      "Other Current Liabilities                                     NaN  \n",
      "Current Deferred Liabilities                          382000000.0  \n",
      "Current Deferred Revenue                              382000000.0  \n",
      "Current Debt And Capital Lease Obligation                     NaN  \n",
      "Current Capital Lease Obligation                              NaN  \n",
      "Pensionand Other Post Retirement Benefit Plans ...            NaN  \n",
      "Payables And Accrued Expenses                                 NaN  \n",
      "Current Accrued Expenses                                      NaN  \n",
      "Payables                                                      NaN  \n",
      "Other Payable                                        1093000000.0  \n",
      "Dueto Related Parties Current                        1093000000.0  \n",
      "Total Tax Payable                                             NaN  \n",
      "Accounts Payable                                              NaN  \n",
      "Total Assets                                                  NaN  \n",
      "Total Non Current Assets                                      NaN  \n",
      "Other Non Current Assets                                      NaN  \n",
      "Investments And Advances                                      NaN  \n",
      "Investmentin Financial Assets                                 NaN  \n",
      "Available For Sale Securities                                 NaN  \n",
      "Long Term Equity Investment                          6234000000.0  \n",
      "Goodwill And Other Intangible Assets                          NaN  \n",
      "Other Intangible Assets                                       NaN  \n",
      "Goodwill                                                      NaN  \n",
      "Net PPE                                                       NaN  \n",
      "Accumulated Depreciation                                      NaN  \n",
      "Gross PPE                                                     NaN  \n",
      "Leases                                                        NaN  \n",
      "Construction In Progress                                      NaN  \n",
      "Other Properties                                              NaN  \n",
      "Machinery Furniture Equipment                       20544000000.0  \n",
      "Buildings And Improvements                                    NaN  \n",
      "Land And Improvements                                         NaN  \n",
      "Properties                                                    NaN  \n",
      "Current Assets                                                NaN  \n",
      "Other Current Assets                                          NaN  \n",
      "Prepaid Assets                                       2381000000.0  \n",
      "Receivables                                                   NaN  \n",
      "Accounts Receivable                                           NaN  \n",
      "Allowance For Doubtful Accounts Receivable           -114000000.0  \n",
      "Gross Accounts Receivable                           11449000000.0  \n",
      "Cash Cash Equivalents And Short Term Investments              NaN  \n",
      "Other Short Term Investments                                  NaN  \n",
      "Cash And Cash Equivalents                                     NaN  \n",
      "Cash Equivalents                                              NaN  \n",
      "Cash Financial                                                NaN  \n"
     ]
    }
   ],
   "source": []
  },
  {
   "cell_type": "code",
   "execution_count": null,
   "id": "ce1482e0-3619-4919-866d-0db01ce6fe90",
   "metadata": {},
   "outputs": [],
   "source": []
  }
 ],
 "metadata": {
  "kernelspec": {
   "display_name": "Python 3 (ipykernel)",
   "language": "python",
   "name": "python3"
  },
  "language_info": {
   "codemirror_mode": {
    "name": "ipython",
    "version": 3
   },
   "file_extension": ".py",
   "mimetype": "text/x-python",
   "name": "python",
   "nbconvert_exporter": "python",
   "pygments_lexer": "ipython3",
   "version": "3.12.2"
  }
 },
 "nbformat": 4,
 "nbformat_minor": 5
}
